{
 "cells": [
  {
   "cell_type": "markdown",
   "metadata": {
    "collapsed": true
   },
   "source": [
    "# Training Neural Networks with Keras\n",
    "\n",
    "This notebook is an intrdouction to training a neural network with the high level framework `Keras`. We will use a toy dataset that is about classifying pictures of fashion items.\n",
    "\n",
    "Find out a bit about it from https://keras.io/datasets/#fashion-mnist-database-of-fashion-articles and https://github.com/zalandoresearch/fashion-mnist"
   ]
  },
  {
   "cell_type": "code",
   "execution_count": 17,
   "metadata": {},
   "outputs": [],
   "source": [
    "%matplotlib inline \n",
    "import matplotlib.pyplot as plt\n",
    "import numpy as np\n",
    "\n",
    "from keras.datasets import fashion_mnist\n",
    "\n",
    "(X_train, y_train), (X_test, y_test) = fashion_mnist.load_data()"
   ]
  },
  {
   "cell_type": "code",
   "execution_count": 18,
   "metadata": {},
   "outputs": [
    {
     "data": {
      "image/png": "[encoded data removed]",
      "text/plain": [
       "<Figure size 216x216 with 1 Axes>"
      ]
     },
     "metadata": {},
     "output_type": "display_data"
    }
   ],
   "source": [
    "sample_index = 45\n",
    "plt.figure(figsize=(3, 3))\n",
    "plt.imshow(X_train[sample_index],\n",
    "           cmap=plt.cm.gray_r,\n",
    "           interpolation='nearest')\n",
    "plt.title(\"image label: %d\" % y_train[sample_index]);"
   ]
  },
  {
   "cell_type": "markdown",
   "metadata": {},
   "source": [
    "## Preprocessing\n",
    "\n",
    "Normalise all features to be centered on zero with standard deviation 1."
   ]
  },
  {
   "cell_type": "code",
   "execution_count": 19,
   "metadata": {},
   "outputs": [
    {
     "data": {
      "text/plain": [
       "(60000, 28, 28)"
      ]
     },
     "execution_count": 19,
     "metadata": {},
     "output_type": "execute_result"
    }
   ],
   "source": [
    "X_train.shape"
   ]
  },
  {
   "cell_type": "code",
   "execution_count": 20,
   "metadata": {},
   "outputs": [],
   "source": [
    "from sklearn import preprocessing\n",
    "\n",
    "X_train = np.asarray(X_train, dtype='float32')\n",
    "X_train = X_train.reshape(X_train.shape[0], X_train.shape[1]*X_train.shape[2])\n",
    "y_train = np.asarray(y_train, dtype='int32')\n",
    "\n",
    "X_test = np.asarray(X_test, dtype='float32')\n",
    "X_test = X_test.reshape(X_test.shape[0], X_test.shape[1]*X_test.shape[2])\n",
    "y_test = np.asarray(y_test, dtype='int32')\n",
    "\n",
    "# mean = 0 ; standard deviation = 1.0\n",
    "scaler = preprocessing.StandardScaler()\n",
    "# use `scaler` to fit() and transform() both\n",
    "# the training and testing data\n",
    "# Store the transformed data in X_train\n",
    "# and X_test again.\n",
    "### BEGIN SOLUTION\n",
    "X_train = scaler.fit_transform(X_train)\n",
    "X_test = scaler.transform(X_test)\n",
    "### END SOLUTION\n",
    "\n",
    "# print(scaler.mean_)\n",
    "# print(scaler.scale_)"
   ]
  },
  {
   "cell_type": "markdown",
   "metadata": {},
   "source": [
    "Let's display one of the transformed samples (after feature standardization):"
   ]
  },
  {
   "cell_type": "code",
   "execution_count": 21,
   "metadata": {},
   "outputs": [
    {
     "data": {
      "image/png": "[encoded data removed]",
      "text/plain": [
       "<Figure size 216x216 with 1 Axes>"
      ]
     },
     "metadata": {},
     "output_type": "display_data"
    }
   ],
   "source": [
    "sample_index = 45\n",
    "plt.figure(figsize=(3, 3))\n",
    "plt.imshow(X_train[sample_index].reshape(28, 28),\n",
    "           cmap=plt.cm.gray_r, interpolation='nearest')\n",
    "plt.title(\"transformed sample\\n(standardization)\");"
   ]
  },
  {
   "cell_type": "markdown",
   "metadata": {},
   "source": [
    "The scaler objects makes it possible to recover the original sample:"
   ]
  },
  {
   "cell_type": "code",
   "execution_count": 22,
   "metadata": {},
   "outputs": [
    {
     "data": {
      "image/png": "[encoded data removed]",
      "text/plain": [
       "<Figure size 216x216 with 1 Axes>"
      ]
     },
     "metadata": {},
     "output_type": "display_data"
    }
   ],
   "source": [
    "plt.figure(figsize=(3, 3))\n",
    "plt.imshow(scaler.inverse_transform(X_train[sample_index]).reshape(28, 28),\n",
    "           cmap=plt.cm.gray_r, interpolation='nearest')\n",
    "plt.title(\"original sample\");"
   ]
  },
  {
   "cell_type": "code",
   "execution_count": 23,
   "metadata": {},
   "outputs": [
    {
     "name": "stdout",
     "output_type": "stream",
     "text": [
      "(60000, 784) (60000,)\n"
     ]
    }
   ],
   "source": [
    "# Double check we understand the shape of the data\n",
    "print(X_train.shape, y_train.shape)"
   ]
  },
  {
   "cell_type": "code",
   "execution_count": 24,
   "metadata": {},
   "outputs": [
    {
     "name": "stdout",
     "output_type": "stream",
     "text": [
      "(10000, 784) (10000,)\n"
     ]
    }
   ],
   "source": [
    "print(X_test.shape, y_test.shape)"
   ]
  },
  {
   "cell_type": "markdown",
   "metadata": {},
   "source": [
    "## First Feed Forward NN with Keras\n",
    "\n",
    "Objectives of this section:\n",
    "\n",
    "- Build and train your first feedforward network using `Keras`\n",
    "    - https://keras.io/getting-started/functional-api-guide/\n",
    "- Experiment with different optimizers, activations, size of layers, initialisations\n",
    "\n",
    "### The Keras Workflow"
   ]
  },
  {
   "cell_type": "markdown",
   "metadata": {},
   "source": [
    "To build a first neural network we need to turn the target variable into a vector \"one-hot-encoding\" representation. Here are the labels of the first samples in the training set encoded as integers:"
   ]
  },
  {
   "cell_type": "code",
   "execution_count": 25,
   "metadata": {},
   "outputs": [
    {
     "data": {
      "text/plain": [
       "array([9, 0, 0], dtype=int32)"
      ]
     },
     "execution_count": 25,
     "metadata": {},
     "output_type": "execute_result"
    }
   ],
   "source": [
    "y_train[:3]"
   ]
  },
  {
   "cell_type": "markdown",
   "metadata": {},
   "source": [
    "Keras provides a utility function to convert integer-encoded categorical variables as one-hot encoded values:"
   ]
  },
  {
   "cell_type": "code",
   "execution_count": 26,
   "metadata": {},
   "outputs": [
    {
     "data": {
      "text/plain": [
       "array([[0., 0., 0., 0., 0., 0., 0., 0., 0., 1.],\n",
       "       [1., 0., 0., 0., 0., 0., 0., 0., 0., 0.],\n",
       "       [1., 0., 0., 0., 0., 0., 0., 0., 0., 0.]], dtype=float32)"
      ]
     },
     "execution_count": 26,
     "metadata": {},
     "output_type": "execute_result"
    }
   ],
   "source": [
    "import keras\n",
    "from keras.utils.np_utils import to_categorical\n",
    "\n",
    "Y_train = to_categorical(y_train)\n",
    "Y_train[:3]"
   ]
  },
  {
   "cell_type": "markdown",
   "metadata": {},
   "source": [
    "We can now build and train our first feed forward neural network using the high level API from keras:\n",
    "\n",
    "- first we define the model by stacking operators with the correct dimensions\n",
    "- then we define a loss function and plug in the SGD optimizer\n",
    "- then we feed the model the training data for a fixed number of epochs"
   ]
  },
  {
   "cell_type": "code",
   "execution_count": 27,
   "metadata": {},
   "outputs": [
    {
     "name": "stdout",
     "output_type": "stream",
     "text": [
      "Epoch 1/15\n",
      "60000/60000 [==============================] - 4s 67us/step - loss: 0.5493 - acc: 0.8108\n",
      "Epoch 2/15\n",
      "60000/60000 [==============================] - 4s 60us/step - loss: 0.4098 - acc: 0.8566\n",
      "Epoch 3/15\n",
      "60000/60000 [==============================] - 4s 59us/step - loss: 0.3745 - acc: 0.8687\n",
      "Epoch 4/15\n",
      "60000/60000 [==============================] - 4s 60us/step - loss: 0.3523 - acc: 0.8756\n",
      "Epoch 5/15\n",
      "60000/60000 [==============================] - 4s 62us/step - loss: 0.3350 - acc: 0.8826\n",
      "Epoch 6/15\n",
      "60000/60000 [==============================] - 4s 62us/step - loss: 0.3211 - acc: 0.8871\n",
      "Epoch 7/15\n",
      "60000/60000 [==============================] - 4s 61us/step - loss: 0.3086 - acc: 0.8914\n",
      "Epoch 8/15\n",
      "60000/60000 [==============================] - 4s 60us/step - loss: 0.2986 - acc: 0.8951\n",
      "Epoch 9/15\n",
      "60000/60000 [==============================] - 4s 60us/step - loss: 0.2891 - acc: 0.8977\n",
      "Epoch 10/15\n",
      "60000/60000 [==============================] - 4s 60us/step - loss: 0.2804 - acc: 0.9019\n",
      "Epoch 11/15\n",
      "60000/60000 [==============================] - 4s 60us/step - loss: 0.2721 - acc: 0.9044\n",
      "Epoch 12/15\n",
      "60000/60000 [==============================] - 4s 60us/step - loss: 0.2649 - acc: 0.9076\n",
      "Epoch 13/15\n",
      "60000/60000 [==============================] - 4s 61us/step - loss: 0.2582 - acc: 0.9096\n",
      "Epoch 14/15\n",
      "60000/60000 [==============================] - 4s 60us/step - loss: 0.2513 - acc: 0.9121\n",
      "Epoch 15/15\n",
      "60000/60000 [==============================] - 4s 60us/step - loss: 0.2447 - acc: 0.9154\n"
     ]
    }
   ],
   "source": [
    "from keras.layers.core import Activation\n",
    "from keras.layers import Input, Dense\n",
    "from keras.models import Model\n",
    "from keras import optimizers\n",
    "\n",
    "n_input = X_train.shape[1]\n",
    "n_hidden = 100\n",
    "n_classes = 10\n",
    "\n",
    "inputs = Input(shape=(n_input,))\n",
    "\n",
    "h = Dense(n_hidden)(inputs)\n",
    "h = Activation('tanh')(h)\n",
    "\n",
    "y = Dense(n_classes)(h)\n",
    "y = Activation('softmax')(y)\n",
    "\n",
    "model = Model(inputs, y)\n",
    "\n",
    "model.compile(optimizer=optimizers.SGD(lr=0.01),\n",
    "              loss='categorical_crossentropy',\n",
    "              metrics=['accuracy'])\n",
    "\n",
    "model.fit(X_train, Y_train, epochs=15, batch_size=32);"
   ]
  },
  {
   "cell_type": "markdown",
   "metadata": {},
   "source": [
    "### Exercises: Impact of the Optimizer\n",
    "\n",
    "- Try to decrease the learning rate value by a factor of 10 or 100. What do you observe?\n",
    "- Try to increase the learning rate value to make the optimization diverge.\n",
    "- (Bonus: Configure the SGD optimizer to enable a Nesterov momentum of 0.9)\n",
    "  \n",
    "Note that the keras API documentation is available at:\n",
    "\n",
    "https://keras.io/\n",
    "\n",
    "It is also possible to learn more about the parameters of a class by using the question mark: type and evaluate:\n",
    "\n",
    "```python\n",
    "optimizers.SGD?\n",
    "```\n",
    "\n",
    "in a jupyter notebook cell."
   ]
  },
  {
   "cell_type": "code",
   "execution_count": 12,
   "metadata": {},
   "outputs": [
    {
     "name": "stdout",
     "output_type": "stream",
     "text": [
      "Epoch 1/15\n",
      "60000/60000 [==============================] - 4s 62us/step - loss: 0.7327 - acc: 0.7657\n",
      "Epoch 2/15\n",
      "60000/60000 [==============================] - 4s 61us/step - loss: 0.6967 - acc: 0.7849\n",
      "Epoch 3/15\n",
      "60000/60000 [==============================] - 4s 62us/step - loss: 0.6684 - acc: 0.7922\n",
      "Epoch 4/15\n",
      "60000/60000 [==============================] - 4s 65us/step - loss: 0.6381 - acc: 0.8022\n",
      "Epoch 5/15\n",
      "60000/60000 [==============================] - 4s 61us/step - loss: 0.6299 - acc: 0.8053\n",
      "Epoch 6/15\n",
      "60000/60000 [==============================] - 4s 62us/step - loss: 0.6188 - acc: 0.8105\n",
      "Epoch 7/15\n",
      "60000/60000 [==============================] - 4s 62us/step - loss: 0.6137 - acc: 0.8088\n",
      "Epoch 8/15\n",
      "60000/60000 [==============================] - 4s 62us/step - loss: 0.6067 - acc: 0.8138\n",
      "Epoch 9/15\n",
      "60000/60000 [==============================] - 4s 62us/step - loss: 0.6092 - acc: 0.8144\n",
      "Epoch 10/15\n",
      "60000/60000 [==============================] - 4s 61us/step - loss: 0.5998 - acc: 0.8162\n",
      "Epoch 11/15\n",
      "60000/60000 [==============================] - 4s 61us/step - loss: 0.5904 - acc: 0.8202\n",
      "Epoch 12/15\n",
      "60000/60000 [==============================] - 4s 61us/step - loss: 0.5824 - acc: 0.8226\n",
      "Epoch 13/15\n",
      "60000/60000 [==============================] - 4s 61us/step - loss: 0.5781 - acc: 0.8245\n",
      "Epoch 14/15\n",
      "60000/60000 [==============================] - 4s 62us/step - loss: 0.5681 - acc: 0.8261\n",
      "Epoch 15/15\n",
      "60000/60000 [==============================] - 4s 61us/step - loss: 0.5767 - acc: 0.8251\n"
     ]
    },
    {
     "data": {
      "text/plain": [
       "<keras.callbacks.History at 0x127d905c0>"
      ]
     },
     "execution_count": 12,
     "metadata": {},
     "output_type": "execute_result"
    }
   ],
   "source": [
    "### BEGIN SOLUTION\n",
    "\n",
    "# Analysis:\n",
    "#\n",
    "# Setting the learning rate value to a small value (e.g. lr=0.001 on\n",
    "# this dataset) makes the model train much slower (it has not\n",
    "# converged yet after 15 epochs).\n",
    "#\n",
    "# Using momentum tends to mitigate the small learning rate / slow\n",
    "# training problem a bit.\n",
    "#\n",
    "# Setting the learning rate to a very large value (e.g. lr=10)\n",
    "# makes the model bounce around randomly. Circling around a good local\n",
    "# minimum and therefore prevents it from reaching a low training loss even\n",
    "# after 30 epochs\n",
    "\n",
    "optimizer = optimizers.SGD(lr=0.1, momentum=0.9, nesterov=True)\n",
    "model.compile(optimizer=optimizer, loss='categorical_crossentropy',\n",
    "              metrics=['accuracy'])\n",
    "model.fit(X_train, Y_train, epochs=15, batch_size=32)\n",
    "\n",
    "### END SOLUTION"
   ]
  },
  {
   "cell_type": "markdown",
   "metadata": {},
   "source": [
    "- Replace the SGD optimizer by the Adam optimizer from keras and run it\n",
    "  with the default parameters.\n",
    "\n",
    "- Add another hidden layer and use the \"Rectified Linear Unit\" for all\n",
    "  hidden layers. Can you still train the model with Adam with its default global\n",
    "  learning rate?\n",
    "\n",
    "- Bonus: try the Adadelta optimizer (no learning rate to set).\n",
    "\n",
    "Hint: use `optimizers.<TAB>` to tab-complete the list of implemented optimizers in Keras."
   ]
  },
  {
   "cell_type": "code",
   "execution_count": 13,
   "metadata": {},
   "outputs": [
    {
     "name": "stdout",
     "output_type": "stream",
     "text": [
      "Epoch 1/15\n",
      "60000/60000 [==============================] - 4s 74us/step - loss: 0.4178 - acc: 0.8585\n",
      "Epoch 2/15\n",
      "60000/60000 [==============================] - 4s 71us/step - loss: 0.3630 - acc: 0.8717\n",
      "Epoch 3/15\n",
      "60000/60000 [==============================] - 4s 70us/step - loss: 0.3429 - acc: 0.8767\n",
      "Epoch 4/15\n",
      "60000/60000 [==============================] - 4s 71us/step - loss: 0.3257 - acc: 0.8831\n",
      "Epoch 5/15\n",
      "60000/60000 [==============================] - 4s 71us/step - loss: 0.3160 - acc: 0.8864\n",
      "Epoch 6/15\n",
      "60000/60000 [==============================] - 4s 71us/step - loss: 0.3059 - acc: 0.8897\n",
      "Epoch 7/15\n",
      "60000/60000 [==============================] - 4s 71us/step - loss: 0.2983 - acc: 0.8917\n",
      "Epoch 8/15\n",
      "60000/60000 [==============================] - 4s 71us/step - loss: 0.2921 - acc: 0.8950\n",
      "Epoch 9/15\n",
      "60000/60000 [==============================] - 4s 71us/step - loss: 0.2836 - acc: 0.8985\n",
      "Epoch 10/15\n",
      "60000/60000 [==============================] - 4s 70us/step - loss: 0.2786 - acc: 0.8998\n",
      "Epoch 11/15\n",
      "60000/60000 [==============================] - 4s 71us/step - loss: 0.2691 - acc: 0.9032\n",
      "Epoch 12/15\n",
      "60000/60000 [==============================] - 4s 71us/step - loss: 0.2638 - acc: 0.9047\n",
      "Epoch 13/15\n",
      "60000/60000 [==============================] - 4s 71us/step - loss: 0.2587 - acc: 0.9067\n",
      "Epoch 14/15\n",
      "60000/60000 [==============================] - 4s 71us/step - loss: 0.2520 - acc: 0.9097\n",
      "Epoch 15/15\n",
      "60000/60000 [==============================] - 4s 70us/step - loss: 0.2485 - acc: 0.9104\n"
     ]
    },
    {
     "data": {
      "text/plain": [
       "<keras.callbacks.History at 0x127d41be0>"
      ]
     },
     "execution_count": 13,
     "metadata": {},
     "output_type": "execute_result"
    }
   ],
   "source": [
    "### BEGIN SOLUTION\n",
    "\n",
    "model.compile(optimizer='adam',\n",
    "              loss='categorical_crossentropy',\n",
    "              metrics=['accuracy'])\n",
    "model.fit(X_train, Y_train, epochs=15, batch_size=32)\n",
    "\n",
    "### END SOLUTION"
   ]
  },
  {
   "cell_type": "code",
   "execution_count": 14,
   "metadata": {},
   "outputs": [
    {
     "name": "stdout",
     "output_type": "stream",
     "text": [
      "Epoch 1/15\n",
      "60000/60000 [==============================] - 4s 73us/step - loss: 0.2413 - acc: 0.9140\n",
      "Epoch 2/15\n",
      "60000/60000 [==============================] - 4s 71us/step - loss: 0.2355 - acc: 0.9156\n",
      "Epoch 3/15\n",
      "60000/60000 [==============================] - 4s 71us/step - loss: 0.2332 - acc: 0.9172\n",
      "Epoch 4/15\n",
      "60000/60000 [==============================] - 4s 71us/step - loss: 0.2274 - acc: 0.9182\n",
      "Epoch 5/15\n",
      "60000/60000 [==============================] - 4s 71us/step - loss: 0.2223 - acc: 0.9207\n",
      "Epoch 6/15\n",
      "60000/60000 [==============================] - 4s 71us/step - loss: 0.2184 - acc: 0.9219\n",
      "Epoch 7/15\n",
      "60000/60000 [==============================] - 4s 71us/step - loss: 0.2146 - acc: 0.9227\n",
      "Epoch 8/15\n",
      "60000/60000 [==============================] - 4s 71us/step - loss: 0.2104 - acc: 0.9256\n",
      "Epoch 9/15\n",
      "60000/60000 [==============================] - 4s 71us/step - loss: 0.2078 - acc: 0.9264\n",
      "Epoch 10/15\n",
      "60000/60000 [==============================] - 4s 71us/step - loss: 0.2022 - acc: 0.9289\n",
      "Epoch 11/15\n",
      "60000/60000 [==============================] - 4s 70us/step - loss: 0.1992 - acc: 0.9287\n",
      "Epoch 12/15\n",
      "60000/60000 [==============================] - 4s 71us/step - loss: 0.1944 - acc: 0.9320\n",
      "Epoch 13/15\n",
      "60000/60000 [==============================] - 4s 71us/step - loss: 0.1928 - acc: 0.9317\n",
      "Epoch 14/15\n",
      "60000/60000 [==============================] - 4s 71us/step - loss: 0.1889 - acc: 0.9335\n",
      "Epoch 15/15\n",
      "60000/60000 [==============================] - 4s 71us/step - loss: 0.1846 - acc: 0.9344\n"
     ]
    },
    {
     "data": {
      "text/plain": [
       "<keras.callbacks.History at 0x128378c18>"
      ]
     },
     "execution_count": 14,
     "metadata": {},
     "output_type": "execute_result"
    }
   ],
   "source": [
    "### BEGIN SOLUTION\n",
    "\n",
    "inputs = Input(shape=(n_input,))\n",
    "\n",
    "h = Dense(n_hidden)(inputs)\n",
    "h = Activation('relu')(h)\n",
    "\n",
    "h = Dense(n_hidden)(h)\n",
    "h = Activation('relu')(h)\n",
    "\n",
    "y = Dense(n_classes)(h)\n",
    "y = Activation('softmax')(y)\n",
    "\n",
    "relu_model = Model(inputs, y)\n",
    "\n",
    "relu_model.compile(optimizer=\"adam\",\n",
    "                   loss='categorical_crossentropy',\n",
    "                   metrics=['accuracy'])\n",
    "model.fit(X_train, Y_train, epochs=15, batch_size=32)\n",
    "\n",
    "### END SOLUTION"
   ]
  },
  {
   "cell_type": "code",
   "execution_count": 15,
   "metadata": {},
   "outputs": [],
   "source": [
    "### BEGIN SOLUTION\n",
    "\n",
    "# Analysis:\n",
    "#\n",
    "# Adam with its default global learning rate of 0.001 tends to work\n",
    "# in many settings and often converges as fast or faster than SGD\n",
    "# with a well tuned learning rate.\n",
    "#\n",
    "# Adadelta has no learning rate setting at all!\n",
    "#\n",
    "# References:\n",
    "#\n",
    "# Adadelta: https://arxiv.org/abs/1212.5701\n",
    "# Adam:     https://arxiv.org/abs/1412.6980\n",
    "\n",
    "### END SOLUTION"
   ]
  },
  {
   "cell_type": "markdown",
   "metadata": {},
   "source": [
    "### Exercises: forward pass and generalization\n",
    "\n",
    "Pick any or all of the different models you built above, and:\n",
    "\n",
    "- Compute predictions on the test set using `model.predict(...)`\n",
    "  - what do you get back from `predict()`? How do you conver it back to human readable labels?\n",
    "- Compute the average accuracy of the model on the test set"
   ]
  },
  {
   "cell_type": "code",
   "execution_count": 16,
   "metadata": {},
   "outputs": [
    {
     "name": "stdout",
     "output_type": "stream",
     "text": [
      "Train on 48000 samples, validate on 12000 samples\n",
      "Epoch 1/15\n",
      "48000/48000 [==============================] - 3s 68us/step - loss: 0.5808 - acc: 0.8012 - val_loss: 0.4567 - val_acc: 0.8357\n",
      "Epoch 2/15\n",
      "48000/48000 [==============================] - 4s 73us/step - loss: 0.4288 - acc: 0.8499 - val_loss: 0.4150 - val_acc: 0.8540\n",
      "Epoch 3/15\n",
      "48000/48000 [==============================] - 4s 80us/step - loss: 0.3907 - acc: 0.8623 - val_loss: 0.3952 - val_acc: 0.8602\n",
      "Epoch 4/15\n",
      "48000/48000 [==============================] - 4s 74us/step - loss: 0.3664 - acc: 0.8719 - val_loss: 0.3809 - val_acc: 0.8642\n",
      "Epoch 5/15\n",
      "48000/48000 [==============================] - 3s 66us/step - loss: 0.3487 - acc: 0.8773 - val_loss: 0.3703 - val_acc: 0.8730\n",
      "Epoch 6/15\n",
      "48000/48000 [==============================] - 3s 64us/step - loss: 0.3336 - acc: 0.8835 - val_loss: 0.3624 - val_acc: 0.8717\n",
      "Epoch 7/15\n",
      "48000/48000 [==============================] - 3s 64us/step - loss: 0.3210 - acc: 0.8871 - val_loss: 0.3573 - val_acc: 0.8744\n",
      "Epoch 8/15\n",
      "48000/48000 [==============================] - 3s 64us/step - loss: 0.3096 - acc: 0.8915 - val_loss: 0.3528 - val_acc: 0.8770\n",
      "Epoch 9/15\n",
      "48000/48000 [==============================] - 3s 64us/step - loss: 0.2992 - acc: 0.8949 - val_loss: 0.3485 - val_acc: 0.8752\n",
      "Epoch 10/15\n",
      "48000/48000 [==============================] - 3s 63us/step - loss: 0.2906 - acc: 0.8975 - val_loss: 0.3436 - val_acc: 0.8787\n",
      "Epoch 11/15\n",
      "48000/48000 [==============================] - 3s 63us/step - loss: 0.2817 - acc: 0.9018 - val_loss: 0.3399 - val_acc: 0.8796\n",
      "Epoch 12/15\n",
      "48000/48000 [==============================] - 3s 63us/step - loss: 0.2738 - acc: 0.9045 - val_loss: 0.3369 - val_acc: 0.8804\n",
      "Epoch 13/15\n",
      "48000/48000 [==============================] - 3s 64us/step - loss: 0.2663 - acc: 0.9068 - val_loss: 0.3364 - val_acc: 0.8800\n",
      "Epoch 14/15\n",
      "48000/48000 [==============================] - 3s 63us/step - loss: 0.2596 - acc: 0.9098 - val_loss: 0.3349 - val_acc: 0.8804\n",
      "Epoch 15/15\n",
      "48000/48000 [==============================] - 3s 63us/step - loss: 0.2524 - acc: 0.9125 - val_loss: 0.3315 - val_acc: 0.8815\n",
      "test acc: 0.8681\n"
     ]
    },
    {
     "data": {
      "image/png": "[encoded data removed]",
      "text/plain": [
       "<Figure size 864x648 with 15 Axes>"
      ]
     },
     "metadata": {},
     "output_type": "display_data"
    }
   ],
   "source": [
    "### BEGIN SOLUTION\n",
    "\n",
    "inputs = Input(shape=(n_input,))\n",
    "\n",
    "h = Dense(n_hidden)(inputs)\n",
    "h = Activation('tanh')(h)\n",
    "\n",
    "y = Dense(n_classes)(h)\n",
    "y = Activation('softmax')(y)\n",
    "\n",
    "model = Model(inputs, y)\n",
    "\n",
    "model.compile(optimizer=optimizers.SGD(lr=0.01),\n",
    "              loss='categorical_crossentropy',\n",
    "              metrics=['accuracy'])\n",
    "\n",
    "model.fit(X_train, Y_train, epochs=15, batch_size=32, validation_split=0.2)\n",
    "\n",
    "# Compute predictions and convert into class labels\n",
    "y_pred = model.predict(X_test)\n",
    "y_pred = np.argmax(y_pred, axis=1)\n",
    "\n",
    "\n",
    "# Display the first few images, the predicted labels and the true labels\n",
    "plt.figure(figsize=(12, 9))\n",
    "for i in range(15):\n",
    "    plt.subplot(3, 5, i + 1)\n",
    "    plt.imshow(scaler.inverse_transform(X_test[i]).reshape(28, 28),\n",
    "               cmap=plt.cm.gray_r, interpolation='nearest')\n",
    "    plt.title(\"predicted label: %d\\n true label: %d\"\n",
    "              % (y_pred[i], y_test[i]))\n",
    "\n",
    "print(\"test acc: %0.4f\" % np.mean(np.equal(y_pred, y_test)))\n",
    "\n",
    "### END SOLUTION"
   ]
  },
  {
   "cell_type": "code",
   "execution_count": null,
   "metadata": {},
   "outputs": [],
   "source": []
  }
 ],
 "metadata": {
  "kernelspec": {
   "display_name": "Python 3",
   "language": "python",
   "name": "python3"
  },
  "language_info": {
   "codemirror_mode": {
    "name": "ipython",
    "version": 3
   },
   "file_extension": ".py",
   "mimetype": "text/x-python",
   "name": "python",
   "nbconvert_exporter": "python",
   "pygments_lexer": "ipython3",
   "version": "3.6.2"
  }
 },
 "nbformat": 4,
 "nbformat_minor": 1
}
