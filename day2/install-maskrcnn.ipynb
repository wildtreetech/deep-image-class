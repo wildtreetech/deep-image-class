{
 "cells": [
  {
   "cell_type": "markdown",
   "metadata": {},
   "source": [
    "The following will download a pretrained neural net model for the notebook on image classification."
   ]
  },
  {
   "cell_type": "code",
   "execution_count": 3,
   "metadata": {},
   "outputs": [
    {
     "name": "stderr",
     "output_type": "stream",
     "text": [
      "Using TensorFlow backend.\n"
     ]
    }
   ],
   "source": [
    "from keras.applications.resnet50 import preprocess_input, ResNet50\n",
    "model = ResNet50(weights='imagenet')"
   ]
  },
  {
   "cell_type": "markdown",
   "metadata": {},
   "source": [
    "The following install a third party library and downloads a large (246MB) pretrained model."
   ]
  },
  {
   "cell_type": "code",
   "execution_count": 4,
   "metadata": {},
   "outputs": [],
   "source": [
    "import os\n",
    "import os.path as op\n",
    "from time import time\n",
    "import zipfile\n",
    "try:\n",
    "    from urllib.request import urlretrieve\n",
    "except ImportError:\n",
    "    from urllib import urlretrieve\n",
    "\n",
    "\n",
    "url = \"https://github.com/matterport/Mask_RCNN/archive/master.zip\"\n",
    "folder = 'maskrcnn'\n",
    "filename = \"Mask_RCNN-master.zip\"\n",
    "if not op.exists(folder):\n",
    "    if not op.exists(filename):\n",
    "        tic = time()\n",
    "        print('Downloading %s to %s (can take a couple of minutes)...'\n",
    "              % (url, filename))\n",
    "        urlretrieve(url, filename)\n",
    "        print('done in {:0.3f}s.'.format(time() - tic))\n",
    "    print('Extracting archive to {}...'.format(folder))\n",
    "    zipfile.ZipFile(filename).extractall('.')\n",
    "    os.rename('Mask_RCNN-master', folder)"
   ]
  },
  {
   "cell_type": "code",
   "execution_count": 5,
   "metadata": {},
   "outputs": [],
   "source": [
    "if not op.exists(folder):\n",
    "    !pip install -e maskrcnn"
   ]
  },
  {
   "cell_type": "code",
   "execution_count": 6,
   "metadata": {},
   "outputs": [
    {
     "name": "stdout",
     "output_type": "stream",
     "text": [
      "Pretraied model can take several minutes to download.\n",
      "Downloading pretrained model to mask_rcnn_coco.h5 ...\n",
      "... done downloading pretrained model!\n"
     ]
    }
   ],
   "source": [
    "# Local path to trained weights file\n",
    "coco_model_file = \"mask_rcnn_coco.h5\"\n",
    "\n",
    "# Download COCO trained weights from Releases if needed\n",
    "if not os.path.exists(coco_model_file):\n",
    "    from mrcnn import utils\n",
    "    print(\"Pretraied model can take several minutes to download.\")\n",
    "    utils.download_trained_weights(coco_model_file)"
   ]
  }
 ],
 "metadata": {
  "kernelspec": {
   "display_name": "Python 3",
   "language": "python",
   "name": "python3"
  },
  "language_info": {
   "codemirror_mode": {
    "name": "ipython",
    "version": 3
   },
   "file_extension": ".py",
   "mimetype": "text/x-python",
   "name": "python",
   "nbconvert_exporter": "python",
   "pygments_lexer": "ipython3",
   "version": "3.6.5"
  }
 },
 "nbformat": 4,
 "nbformat_minor": 2
}
