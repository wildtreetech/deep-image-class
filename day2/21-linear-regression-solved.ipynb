{
 "cells": [
  {
   "cell_type": "markdown",
   "metadata": {},
   "source": [
    "## Linear Regression\n",
    "\n",
    "In this section we will implement a linear regression model trainable with SGD using numpy. Here are the objectives:\n",
    "\n",
    "1. Implement a simple forward model: $y = W x + b$\n",
    "\n",
    "1. build a `predict` function which returns the predicted regression value given an input $x$\n",
    "\n",
    "1. build an `accuracy` function for a batch of inputs $X$ and the corresponding expected outputs $y_{true}$ (for regression we typically use Mean Squared Error (MSE) as metric)\n",
    "\n",
    "1. build a `grad` function which computes the gradients for an $x$ and its corresponding expected output $y_{true}$ ; check that the gradients are well defined\n",
    "\n",
    "1. build a `train` function which uses the `grad` function output to update $W$ and $b$"
   ]
  },
  {
   "cell_type": "code",
   "execution_count": 1,
   "metadata": {},
   "outputs": [],
   "source": [
    "%matplotlib inline\n",
    "import matplotlib.pyplot as plt\n",
    "plt.rcParams[\"figure.figsize\"] = (8, 8)\n",
    "plt.rcParams[\"font.size\"] = 14\n",
    "\n",
    "import numpy as np"
   ]
  },
  {
   "cell_type": "code",
   "execution_count": 2,
   "metadata": {},
   "outputs": [],
   "source": [
    "# our toy data for this task\n",
    "# experiment with the number of points, more\n",
    "# points should be easier for debugging as\n",
    "# statistical noise will be smaller\n",
    "n_points = 20\n",
    "X = np.random.uniform(0, 10, size=n_points)\n",
    "temp = 1.3*X + 15 + np.random.normal(0, 1, size=n_points)"
   ]
  },
  {
   "cell_type": "code",
   "execution_count": 3,
   "metadata": {},
   "outputs": [
    {
     "data": {
      "image/png": "[encoded data removed]",
      "text/plain": [
       "<Figure size 432x288 with 1 Axes>"
      ]
     },
     "metadata": {},
     "output_type": "display_data"
    }
   ],
   "source": [
    "# Plot the data, on the x axis\n",
    "# the minutes of sunshine and on\n",
    "# the y-axis the temperature\n",
    "### BEGIN SOLUTION\n",
    "plt.plot(X, temp, 'o')\n",
    "plt.xlabel(\"Minutes of sunshine in the last 10minutes\")\n",
    "plt.ylabel(\"Temperature [C]\");\n",
    "### END SOLUTION"
   ]
  },
  {
   "cell_type": "markdown",
   "metadata": {},
   "source": [
    "Next is the big `LinearRegression` class. Once you fill in all the gaps it will let you perform linear regression and we will keep building on this class' structure during the day. Maybe a class structure like this is overkill for linear regression, but we can use the same structure for our simple neural network later.\n",
    "\n",
    "We will perform linear regression and find the coefficients `W` and `b` by gradient descent. This is not how you would solve this in reality, but stick with it for the moment so we can create the basis for Logistic Regression later."
   ]
  },
  {
   "cell_type": "code",
   "execution_count": 5,
   "metadata": {},
   "outputs": [],
   "source": [
    "class LinearRegression():\n",
    "    def __init__(self):\n",
    "        self.W = np.random.uniform(high=0.5, low=-0.5)\n",
    "        self.b = np.random.uniform(high=0.5, low=-0.5)\n",
    "    \n",
    "    def predict(self, X):\n",
    "        # TODO: for each sample in X return the predicted value, X is a vector!\n",
    "        ### BEGIN SOLUTION\n",
    "        return X*self.W + self.b\n",
    "        ### END SOLUTION\n",
    "    \n",
    "    def grad_loss(self, x, y_true):\n",
    "        # TODO?: compute gradient with respect to W and b for one sample x\n",
    "        # and the true value y_true\n",
    "        ### BEGIN SOLUTION\n",
    "        grad_W = -1. * x * (y_true - (self.W*x + self.b))\n",
    "        grad_b = -1. * (y_true - (self.W*x + self.b))\n",
    "        grads = {\"W\": grad_W, \"b\": grad_b}\n",
    "        return grads\n",
    "        ### END SOLUTION\n",
    "    \n",
    "    def train(self, x, y, learning_rate):\n",
    "        # TODO: compute one step of the gradient descent update\n",
    "        ### BEGIN SOLUTION\n",
    "        grads = self.grad_loss(x, y)\n",
    "        self.W = self.W - learning_rate * grads[\"W\"]\n",
    "        self.b = self.b - learning_rate * grads[\"b\"]\n",
    "        ### END SOLUTION\n",
    "        \n",
    "    def loss(self, x, y):\n",
    "        # TODO: compute the loss for the sample x with true value y\n",
    "        ### BEGIN SOLUTION\n",
    "        return (self.predict(x) - y)**2\n",
    "        ### END SOLUTION\n",
    "\n",
    "    def accuracy(self, X, y):\n",
    "        # TODO: compute accuracy for samples X with true values y\n",
    "        ### BEGIN SOLUTION\n",
    "        y_predict = self.predict(X)\n",
    "        return np.sum(y_predict - y)**2 / X.shape[0]\n",
    "        ### END SOLUTION"
   ]
  },
  {
   "cell_type": "markdown",
   "metadata": {},
   "source": [
    "Questions:\n",
    "\n",
    "* how do you know that you trained for enough epochs?\n",
    "* visualise how the loss changes over the epochs\n",
    "* are more epochs always better? How could you show this?\n",
    "* change the setup to use stochastic gradient descent\n",
    "* (bonus) visualise the values of W and b over the epochs\n",
    "* (bonus) can you see a difference for the paths of W and b between mini batch SGD and single sample SGD?"
   ]
  },
  {
   "cell_type": "code",
   "execution_count": 6,
   "metadata": {},
   "outputs": [
    {
     "name": "stdout",
     "output_type": "stream",
     "text": [
      "initial value of W: -0.1960 and b: -0.3831\n"
     ]
    }
   ],
   "source": [
    "lr = LinearRegression()\n",
    "print('initial value of W: %.4f and b: %.4f' % (lr.W, lr.b))"
   ]
  },
  {
   "cell_type": "code",
   "execution_count": 7,
   "metadata": {},
   "outputs": [],
   "source": [
    "from sklearn.utils import shuffle"
   ]
  },
  {
   "cell_type": "code",
   "execution_count": 8,
   "metadata": {},
   "outputs": [
    {
     "data": {
      "image/png": "[encoded data removed]",
      "text/plain": [
       "<Figure size 432x288 with 1 Axes>"
      ]
     },
     "metadata": {},
     "output_type": "display_data"
    }
   ],
   "source": [
    "lr = LinearRegression()\n",
    "lr.W = 1.3\n",
    "lr.b = 15.\n",
    "\n",
    "line = np.linspace(0, 10, 100)\n",
    "\n",
    "plt.plot(X, temp, 'o')\n",
    "plt.plot(line, lr.predict(line), c='k');"
   ]
  },
  {
   "cell_type": "code",
   "execution_count": 9,
   "metadata": {},
   "outputs": [
    {
     "name": "stdout",
     "output_type": "stream",
     "text": [
      "starting at W=-0.202 b=-0.454\n"
     ]
    },
    {
     "data": {
      "image/png": "[encoded data removed]",
      "text/plain": [
       "<Figure size 432x288 with 1 Axes>"
      ]
     },
     "metadata": {},
     "output_type": "display_data"
    }
   ],
   "source": [
    "lr = LinearRegression()\n",
    "print('starting at W=%.3f b=%.3f' % (lr.W, lr.b))\n",
    "learning_rate = 0.01\n",
    "\n",
    "# train the model by looping through the\n",
    "# data 100 times. After each sample we\n",
    "# update the weights W and bias b\n",
    "for n in range(50):\n",
    "    for (x_, y_) in zip(X, temp):\n",
    "        lr.train(x_, y_, learning_rate)\n",
    "    train_acc = lr.accuracy(X, temp)\n",
    "    plt.plot(line, lr.predict(line), c='r', alpha=0.2)\n",
    "\n",
    "plt.plot(X, temp, 'o')\n",
    "plt.plot(line, lr.predict(line), c='r');"
   ]
  },
  {
   "cell_type": "code",
   "execution_count": null,
   "metadata": {},
   "outputs": [],
   "source": [
    "train_acc"
   ]
  },
  {
   "cell_type": "code",
   "execution_count": null,
   "metadata": {},
   "outputs": [],
   "source": [
    "# Modify the training procedure to use\n",
    "# stochastic gradient descent. With a\n",
    "# mini batch size of 10\n",
    "\n",
    "lr = LinearRegression()\n",
    "learning_rate = 0.01\n",
    "batch_size = 10\n",
    "\n",
    "for n in range(100):\n",
    "    ### BEGIN SOLUTION\n",
    "    X_shuffled, temp_shuffled = shuffle(X, temp)\n",
    "    for i, (x_, y_) in enumerate(zip(X_shuffled[:batch_size], temp_shuffled[:batch_size])):\n",
    "        lr.train(x_, y_, learning_rate)\n",
    "        train_acc = lr.accuracy(X, temp)\n",
    "    ### END SOLUTION\n",
    "\n",
    "plt.plot(X, temp, 'o')\n",
    "plt.plot(line, lr.predict(line), c='r');"
   ]
  },
  {
   "cell_type": "code",
   "execution_count": 10,
   "metadata": {
    "tags": [
     "remove"
    ]
   },
   "outputs": [],
   "source": [
    "lr = LinearRegression()\n",
    "\n",
    "# 0.01 converges quickly, but seems to struggle with settling/bounces around\n",
    "# with this small learning rate (0.001) we need to bump up the number of epochs to\n",
    "# ~400 or more\n",
    "learning_rate = 0.01\n",
    "n_epochs = 100\n",
    "\n",
    "Ws = [lr.W]\n",
    "bs = [lr.b]\n",
    "losses = [lr.accuracy(X, temp)]\n",
    "for n in range(n_epochs):\n",
    "    # shuffle points before each iteration, then selecting first N points\n",
    "    # is a nice way of doing stochastic gradient descent\n",
    "    x_shuffled, temp_shuffled = shuffle(X, temp)\n",
    "    for i, (x_, y_) in enumerate(zip(x_shuffled, temp_shuffled)):\n",
    "        lr.train(x_, y_, learning_rate)\n",
    "        train_acc = lr.accuracy(X, temp)\n",
    "        # turn on mini batches\n",
    "        if i > 20:\n",
    "            break\n",
    "        \n",
    "    Ws.append(lr.W)\n",
    "    bs.append(lr.b)\n",
    "    losses.append(lr.accuracy(X, temp))\n",
    "    # maybe what we should do is reduce the learning rate as training progresses\n",
    "    # big steps at first, then smaller ones, start at 0.01\n",
    "    #learning_rate *= 0.9\n",
    "    # with a large number of iterations this gets a bit noisy\n",
    "    #print(\"Update: train accuracy: %0.3f\"% (train_acc), end=' ')\n",
    "    #print('value of W: %.4f and b: %.4f' % (lr.W, lr.b))"
   ]
  },
  {
   "cell_type": "code",
   "execution_count": 11,
   "metadata": {
    "tags": [
     "remove"
    ]
   },
   "outputs": [
    {
     "data": {
      "image/png": "[encoded data removed]",
      "text/plain": [
       "<Figure size 432x288 with 1 Axes>"
      ]
     },
     "metadata": {},
     "output_type": "display_data"
    }
   ],
   "source": [
    "line = np.linspace(0, 10, 100)\n",
    "plt.plot(X, temp, 'o')\n",
    "plt.plot(line, lr.predict(line));"
   ]
  },
  {
   "cell_type": "code",
   "execution_count": 12,
   "metadata": {
    "tags": [
     "remove"
    ]
   },
   "outputs": [
    {
     "data": {
      "text/plain": [
       "Text(0,0.5,'b')"
      ]
     },
     "execution_count": 12,
     "metadata": {},
     "output_type": "execute_result"
    },
    {
     "data": {
      "image/png": "[encoded data removed]",
      "text/plain": [
       "<Figure size 432x288 with 1 Axes>"
      ]
     },
     "metadata": {},
     "output_type": "display_data"
    }
   ],
   "source": [
    "plt.scatter(Ws, bs, c=range(len(Ws)))\n",
    "plt.xlabel('W')\n",
    "plt.ylabel('b')"
   ]
  },
  {
   "cell_type": "markdown",
   "metadata": {},
   "source": [
    "## With validation data"
   ]
  },
  {
   "cell_type": "code",
   "execution_count": null,
   "metadata": {
    "tags": [
     "remove"
    ]
   },
   "outputs": [],
   "source": [
    "# make some validation data\n",
    "N = 2000\n",
    "X_val = np.random.uniform(0, 10, size=N)\n",
    "temp_val = 1.3*X_val + 15 + np.random.normal(0, 1, size=N)"
   ]
  },
  {
   "cell_type": "code",
   "execution_count": null,
   "metadata": {
    "tags": [
     "remove"
    ]
   },
   "outputs": [],
   "source": [
    "lr = LinearRegression()\n",
    "\n",
    "# 0.01 converges quickly, but seems to struggle with settling/bounces around\n",
    "# with this small learning rate (0.001) we need to bump up the number of epochs to\n",
    "# ~400 or more\n",
    "learning_rate = 0.01\n",
    "n_epochs = 200\n",
    "\n",
    "losses = [lr.accuracy(X, temp)]\n",
    "val_losses = [lr.accuracy(X_val, temp_val)]\n",
    "for n in range(n_epochs):\n",
    "    # shuffle points before each iteration, then selecting first N points\n",
    "    # is a nice way of doing stochastic gradient descent\n",
    "    x_shuffled, temp_shuffled = shuffle(X, temp, random_state=1)\n",
    "    for i, (x_, y_) in enumerate(zip(x_shuffled, temp_shuffled)):\n",
    "        lr.train(x_, y_, learning_rate)\n",
    "\n",
    "    losses.append(lr.accuracy(X, temp))\n",
    "    val_losses.append(lr.accuracy(X_val, temp_val))"
   ]
  },
  {
   "cell_type": "code",
   "execution_count": null,
   "metadata": {
    "tags": [
     "remove"
    ]
   },
   "outputs": [],
   "source": [
    "print(lr.W, lr.b)"
   ]
  },
  {
   "cell_type": "code",
   "execution_count": null,
   "metadata": {
    "tags": [
     "remove"
    ]
   },
   "outputs": [],
   "source": [
    "line = np.linspace(0, 10, 20)\n",
    "plt.plot(X, temp, 'o')\n",
    "plt.plot(X_val, temp_val, 'x')\n",
    "\n",
    "plt.plot(line, lr.predict(line));"
   ]
  },
  {
   "cell_type": "code",
   "execution_count": null,
   "metadata": {
    "tags": [
     "remove"
    ]
   },
   "outputs": [],
   "source": [
    "plt.plot(losses, label='training')\n",
    "plt.plot(val_losses, label='validation')\n",
    "plt.ylim([0, 20])\n",
    "plt.legend(loc='best')\n",
    "plt.ylabel(\"accuracy\")\n",
    "plt.xlabel(\"iterations\");\n",
    "plt.grid();"
   ]
  },
  {
   "cell_type": "code",
   "execution_count": null,
   "metadata": {},
   "outputs": [],
   "source": []
  },
  {
   "cell_type": "code",
   "execution_count": null,
   "metadata": {},
   "outputs": [],
   "source": []
  }
 ],
 "metadata": {
  "celltoolbar": "Tags",
  "kernel_info": {
   "name": "python3"
  },
  "kernelspec": {
   "display_name": "Python 3",
   "language": "python",
   "name": "python3"
  },
  "language_info": {
   "codemirror_mode": {
    "name": "ipython",
    "version": 3
   },
   "file_extension": ".py",
   "mimetype": "text/x-python",
   "name": "python",
   "nbconvert_exporter": "python",
   "pygments_lexer": "ipython3",
   "version": "3.6.2"
  },
  "nteract": {
   "version": "0.9.1"
  }
 },
 "nbformat": 4,
 "nbformat_minor": 2
}
