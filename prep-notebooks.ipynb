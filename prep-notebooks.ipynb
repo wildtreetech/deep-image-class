{
 "cells": [
  {
   "cell_type": "code",
   "execution_count": 22,
   "metadata": {},
   "outputs": [],
   "source": [
    "import nbclean\n",
    "\n",
    "\n",
    "def prep_notebook(path):\n",
    "    ntbk = nbclean.NotebookCleaner(path)\n",
    "    \n",
    "    ntbk.clear(kind='output')\n",
    "    ntbk.clear(kind='content', tag='remove')\n",
    "    \n",
    "    text_replace_begin = '### BEGIN SOLUTION'\n",
    "    text_replace_end = '### END SOLUTION'\n",
    "    ntbk.replace_text(text_replace_begin, text_replace_end)\n",
    "\n",
    "    cleaned_notebook = path.replace(\"-solved\", \"\")\n",
    "    ntbk.save(cleaned_notebook)"
   ]
  },
  {
   "cell_type": "code",
   "execution_count": 23,
   "metadata": {},
   "outputs": [],
   "source": [
    "notebooks = !ls */*-solved.ipynb"
   ]
  },
  {
   "cell_type": "code",
   "execution_count": 24,
   "metadata": {},
   "outputs": [
    {
     "name": "stdout",
     "output_type": "stream",
     "text": [
      "day1/10-numpy-matplotlib-solved.ipynb\n",
      "day1/20-machine-learning-lingo-solved.ipynb\n",
      "day1/31-underfitting-overfitting-solved.ipynb\n",
      "day1/32-three-fold-way-solved.ipynb\n",
      "day1/33-the-full-monty-solved.ipynb\n",
      "day1/50-intro-keras-solved.ipynb\n",
      "day2/10-pretrained-models-solved.ipynb\n",
      "day2/20-loss-solved.ipynb\n",
      "day2/21-linear-regression-solved.ipynb\n",
      "day2/22-logistic-regression-solved.ipynb\n",
      "day2/23-multi-layer-network-solved.ipynb\n"
     ]
    }
   ],
   "source": [
    "for notebook in notebooks:\n",
    "    print(notebook)\n",
    "    prep_notebook(notebook)"
   ]
  },
  {
   "cell_type": "code",
   "execution_count": null,
   "metadata": {},
   "outputs": [],
   "source": []
  }
 ],
 "metadata": {
  "kernelspec": {
   "display_name": "Python 3",
   "language": "python",
   "name": "python3"
  },
  "language_info": {
   "codemirror_mode": {
    "name": "ipython",
    "version": 3
   },
   "file_extension": ".py",
   "mimetype": "text/x-python",
   "name": "python",
   "nbconvert_exporter": "python",
   "pygments_lexer": "ipython3",
   "version": "3.6.5"
  }
 },
 "nbformat": 4,
 "nbformat_minor": 2
}
