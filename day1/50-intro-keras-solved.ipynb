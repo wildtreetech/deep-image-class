{
 "cells": [
  {
   "cell_type": "markdown",
   "metadata": {
    "collapsed": true
   },
   "source": [
    "# Training Neural Networks with Keras\n",
    "\n",
    "This notebook is an intrdouction to training a neural network with the high level framework `Keras`. We will use a toy dataset that is about classifying pictures of fashion items.\n",
    "\n",
    "Find out a bit about it from https://keras.io/datasets/#fashion-mnist-database-of-fashion-articles and https://github.com/zalandoresearch/fashion-mnist"
   ]
  },
  {
   "cell_type": "code",
   "execution_count": 1,
   "metadata": {},
   "outputs": [
    {
     "name": "stderr",
     "output_type": "stream",
     "text": [
      "Using TensorFlow backend.\n"
     ]
    }
   ],
   "source": [
    "%matplotlib inline \n",
    "import matplotlib.pyplot as plt\n",
    "import numpy as np\n",
    "\n",
    "from keras.datasets import fashion_mnist\n",
    "\n",
    "(X_train, y_train), (X_test, y_test) = fashion_mnist.load_data()"
   ]
  },
  {
   "cell_type": "code",
   "execution_count": 2,
   "metadata": {},
   "outputs": [
    {
     "data": {
      "image/png": "[encoded data removed]",
      "text/plain": [
       "<Figure size 216x216 with 1 Axes>"
      ]
     },
     "metadata": {},
     "output_type": "display_data"
    }
   ],
   "source": [
    "sample_index = 45\n",
    "plt.figure(figsize=(3, 3))\n",
    "plt.imshow(X_train[sample_index],\n",
    "           cmap=plt.cm.gray_r,\n",
    "           interpolation='nearest')\n",
    "plt.title(\"image label: %d\" % y_train[sample_index]);"
   ]
  },
  {
   "cell_type": "markdown",
   "metadata": {},
   "source": [
    "## Preprocessing\n",
    "\n",
    "Normalise all features to be centered on zero with standard deviation 1."
   ]
  },
  {
   "cell_type": "code",
   "execution_count": 3,
   "metadata": {},
   "outputs": [
    {
     "data": {
      "text/plain": [
       "(60000, 28, 28)"
      ]
     },
     "execution_count": 3,
     "metadata": {},
     "output_type": "execute_result"
    }
   ],
   "source": [
    "X_train.shape"
   ]
  },
  {
   "cell_type": "code",
   "execution_count": 4,
   "metadata": {},
   "outputs": [],
   "source": [
    "from sklearn import preprocessing\n",
    "\n",
    "X_train = np.asarray(X_train, dtype='float32')\n",
    "X_train = X_train.reshape(X_train.shape[0], X_train.shape[1]*X_train.shape[2])\n",
    "y_train = np.asarray(y_train, dtype='int32')\n",
    "\n",
    "X_test = np.asarray(X_test, dtype='float32')\n",
    "X_test = X_test.reshape(X_test.shape[0], X_test.shape[1]*X_test.shape[2])\n",
    "y_test = np.asarray(y_test, dtype='int32')\n",
    "\n",
    "# mean = 0 ; standard deviation = 1.0\n",
    "scaler = preprocessing.StandardScaler()\n",
    "# use `scaler` to fit() and transform() both\n",
    "# the training and testing data\n",
    "# Store the transformed data in X_train\n",
    "# and X_test again.\n",
    "### BEGIN SOLUTION\n",
    "X_train = scaler.fit_transform(X_train)\n",
    "X_test = scaler.transform(X_test)\n",
    "### END SOLUTION\n",
    "\n",
    "# print(scaler.mean_)\n",
    "# print(scaler.scale_)"
   ]
  },
  {
   "cell_type": "markdown",
   "metadata": {},
   "source": [
    "Let's display the one of the transformed samples (after feature standardization):"
   ]
  },
  {
   "cell_type": "code",
   "execution_count": 5,
   "metadata": {},
   "outputs": [
    {
     "data": {
      "image/png": "[encoded data removed]",
      "text/plain": [
       "<Figure size 216x216 with 1 Axes>"
      ]
     },
     "metadata": {},
     "output_type": "display_data"
    }
   ],
   "source": [
    "sample_index = 45\n",
    "plt.figure(figsize=(3, 3))\n",
    "plt.imshow(X_train[sample_index].reshape(28, 28),\n",
    "           cmap=plt.cm.gray_r, interpolation='nearest')\n",
    "plt.title(\"transformed sample\\n(standardization)\");"
   ]
  },
  {
   "cell_type": "markdown",
   "metadata": {},
   "source": [
    "The scaler objects makes it possible to recover the original sample:"
   ]
  },
  {
   "cell_type": "code",
   "execution_count": 6,
   "metadata": {},
   "outputs": [
    {
     "data": {
      "image/png": "[encoded data removed]",
      "text/plain": [
       "<Figure size 216x216 with 1 Axes>"
      ]
     },
     "metadata": {},
     "output_type": "display_data"
    }
   ],
   "source": [
    "plt.figure(figsize=(3, 3))\n",
    "plt.imshow(scaler.inverse_transform(X_train[sample_index]).reshape(28, 28),\n",
    "           cmap=plt.cm.gray_r, interpolation='nearest')\n",
    "plt.title(\"original sample\");"
   ]
  },
  {
   "cell_type": "code",
   "execution_count": 7,
   "metadata": {},
   "outputs": [
    {
     "name": "stdout",
     "output_type": "stream",
     "text": [
      "(60000, 784) (60000,)\n"
     ]
    }
   ],
   "source": [
    "# Double check we understand the shape of the data\n",
    "print(X_train.shape, y_train.shape)"
   ]
  },
  {
   "cell_type": "code",
   "execution_count": 8,
   "metadata": {},
   "outputs": [
    {
     "name": "stdout",
     "output_type": "stream",
     "text": [
      "(10000, 784) (10000,)\n"
     ]
    }
   ],
   "source": [
    "print(X_test.shape, y_test.shape)"
   ]
  },
  {
   "cell_type": "markdown",
   "metadata": {},
   "source": [
    "## First Feed Forward NN with Keras\n",
    "\n",
    "Objectives of this section:\n",
    "\n",
    "- Build and train your first feedforward network using `Keras`\n",
    "    - https://keras.io/getting-started/functional-api-guide/\n",
    "- Experiment with different optimizers, activations, size of layers, initialisations\n",
    "\n",
    "### The Keras Workflow"
   ]
  },
  {
   "cell_type": "markdown",
   "metadata": {},
   "source": [
    "To build a first neural network we need to turn the target variable into a vector \"one-hot-encoding\" representation. Here are the labels of the first samples in the training set encoded as integers:"
   ]
  },
  {
   "cell_type": "code",
   "execution_count": 9,
   "metadata": {},
   "outputs": [
    {
     "data": {
      "text/plain": [
       "array([9, 0, 0], dtype=int32)"
      ]
     },
     "execution_count": 9,
     "metadata": {},
     "output_type": "execute_result"
    }
   ],
   "source": [
    "y_train[:3]"
   ]
  },
  {
   "cell_type": "markdown",
   "metadata": {},
   "source": [
    "Keras provides a utility function to convert integer-encoded categorical variables as one-hot encoded values:"
   ]
  },
  {
   "cell_type": "code",
   "execution_count": 10,
   "metadata": {},
   "outputs": [
    {
     "data": {
      "text/plain": [
       "array([[ 0.,  0.,  0.,  0.,  0.,  0.,  0.,  0.,  0.,  1.],\n",
       "       [ 1.,  0.,  0.,  0.,  0.,  0.,  0.,  0.,  0.,  0.],\n",
       "       [ 1.,  0.,  0.,  0.,  0.,  0.,  0.,  0.,  0.,  0.]], dtype=float32)"
      ]
     },
     "execution_count": 10,
     "metadata": {},
     "output_type": "execute_result"
    }
   ],
   "source": [
    "import keras\n",
    "from keras.utils.np_utils import to_categorical\n",
    "\n",
    "Y_train = to_categorical(y_train)\n",
    "Y_train[:3]"
   ]
  },
  {
   "cell_type": "markdown",
   "metadata": {},
   "source": [
    "We can now build and train our first feed forward neural network using the high level API from keras:\n",
    "\n",
    "- first we define the model by stacking operators with the correct dimensions\n",
    "- then we define a loss function and plug in the SGD optimizer\n",
    "- then we feed the model the training data for a fixed number of epochs"
   ]
  },
  {
   "cell_type": "code",
   "execution_count": 11,
   "metadata": {},
   "outputs": [
    {
     "name": "stdout",
     "output_type": "stream",
     "text": [
      "Epoch 1/15\n",
      "60000/60000 [==============================] - 3s 43us/step - loss: 0.5600 - acc: 0.8069\n",
      "Epoch 2/15\n",
      "60000/60000 [==============================] - 3s 43us/step - loss: 0.4557 - acc: 0.8425\n",
      "Epoch 3/15\n",
      "60000/60000 [==============================] - 3s 43us/step - loss: 0.4349 - acc: 0.8505\n",
      "Epoch 4/15\n",
      "60000/60000 [==============================] - 3s 43us/step - loss: 0.4231 - acc: 0.8541\n",
      "Epoch 5/15\n",
      "60000/60000 [==============================] - 3s 42us/step - loss: 0.4156 - acc: 0.8566\n",
      "Epoch 6/15\n",
      "60000/60000 [==============================] - 2s 41us/step - loss: 0.4095 - acc: 0.8582\n",
      "Epoch 7/15\n",
      "60000/60000 [==============================] - 2s 41us/step - loss: 0.4051 - acc: 0.8612\n",
      "Epoch 8/15\n",
      "60000/60000 [==============================] - 2s 41us/step - loss: 0.4014 - acc: 0.8616\n",
      "Epoch 9/15\n",
      "60000/60000 [==============================] - 2s 41us/step - loss: 0.3977 - acc: 0.8625\n",
      "Epoch 10/15\n",
      "60000/60000 [==============================] - 2s 41us/step - loss: 0.3949 - acc: 0.8635\n",
      "Epoch 11/15\n",
      "60000/60000 [==============================] - 3s 43us/step - loss: 0.3929 - acc: 0.8639\n",
      "Epoch 12/15\n",
      "60000/60000 [==============================] - 3s 44us/step - loss: 0.3909 - acc: 0.8643\n",
      "Epoch 13/15\n",
      "60000/60000 [==============================] - 3s 45us/step - loss: 0.3892 - acc: 0.8647\n",
      "Epoch 14/15\n",
      "60000/60000 [==============================] - 3s 52us/step - loss: 0.3874 - acc: 0.8654\n",
      "Epoch 15/15\n",
      "60000/60000 [==============================] - 3s 49us/step - loss: 0.3853 - acc: 0.8663\n"
     ]
    }
   ],
   "source": [
    "from keras.layers.core import Activation\n",
    "from keras.layers import Input, Dense\n",
    "from keras.models import Model\n",
    "from keras import optimizers\n",
    "\n",
    "n_input = X_train.shape[1]\n",
    "n_hidden = 100\n",
    "n_classes = 10\n",
    "\n",
    "inputs = Input(shape=(n_input,))\n",
    "\n",
    "h = Dense(n_hidden)(inputs)\n",
    "h = Activation('tanh')(h)\n",
    "\n",
    "y = Dense(n_classes)(inputs)\n",
    "y = Activation('softmax')(y)\n",
    "\n",
    "model = Model(inputs, y)\n",
    "\n",
    "model.compile(optimizer=optimizers.SGD(lr=0.01),\n",
    "              loss='categorical_crossentropy',\n",
    "              metrics=['accuracy'])\n",
    "\n",
    "model.fit(X_train, Y_train, epochs=15, batch_size=32);"
   ]
  },
  {
   "cell_type": "markdown",
   "metadata": {},
   "source": [
    "### Exercises: Impact of the Optimizer\n",
    "\n",
    "- Try to decrease the learning rate value by 10 or 100. What do you observe?\n",
    "- Try to increase the learning rate value to make the optimization diverge.\n",
    "- Configure the SGD optimizer to enable a Nesterov momentum of 0.9\n",
    "  \n",
    "Note that the keras API documentation is available at:\n",
    "\n",
    "https://keras.io/\n",
    "\n",
    "It is also possible to learn more about the parameters of a class by using the question mark: type and evaluate:\n",
    "\n",
    "```python\n",
    "optimizers.SGD?\n",
    "```\n",
    "\n",
    "in a jupyter notebook cell."
   ]
  },
  {
   "cell_type": "code",
   "execution_count": 12,
   "metadata": {},
   "outputs": [
    {
     "name": "stdout",
     "output_type": "stream",
     "text": [
      "Epoch 1/15\n",
      "60000/60000 [==============================] - 3s 52us/step - loss: 2.4045 - acc: 0.8074\n",
      "Epoch 2/15\n",
      "60000/60000 [==============================] - 3s 45us/step - loss: 2.2776 - acc: 0.8317\n",
      "Epoch 3/15\n",
      "60000/60000 [==============================] - 2s 41us/step - loss: 2.1699 - acc: 0.8420\n",
      "Epoch 4/15\n",
      "60000/60000 [==============================] - 3s 43us/step - loss: 2.1223 - acc: 0.8467\n",
      "Epoch 5/15\n",
      "60000/60000 [==============================] - 2s 42us/step - loss: 2.1146 - acc: 0.8499\n",
      "Epoch 6/15\n",
      "60000/60000 [==============================] - 2s 41us/step - loss: 2.0524 - acc: 0.8543\n",
      "Epoch 7/15\n",
      "60000/60000 [==============================] - 3s 43us/step - loss: 2.0607 - acc: 0.8532\n",
      "Epoch 8/15\n",
      "60000/60000 [==============================] - 3s 43us/step - loss: 2.0324 - acc: 0.8559\n",
      "Epoch 9/15\n",
      "60000/60000 [==============================] - 3s 42us/step - loss: 2.0246 - acc: 0.8581\n",
      "Epoch 10/15\n",
      "60000/60000 [==============================] - 2s 41us/step - loss: 1.9993 - acc: 0.8592\n",
      "Epoch 11/15\n",
      "60000/60000 [==============================] - 2s 41us/step - loss: 2.0093 - acc: 0.8601\n",
      "Epoch 12/15\n",
      "60000/60000 [==============================] - 2s 41us/step - loss: 1.9887 - acc: 0.8611\n",
      "Epoch 13/15\n",
      "60000/60000 [==============================] - 2s 40us/step - loss: 1.9716 - acc: 0.8627\n",
      "Epoch 14/15\n",
      "60000/60000 [==============================] - 2s 41us/step - loss: 1.9411 - acc: 0.8646\n",
      "Epoch 15/15\n",
      "60000/60000 [==============================] - 2s 41us/step - loss: 1.9645 - acc: 0.8636\n"
     ]
    },
    {
     "data": {
      "text/plain": [
       "<keras.callbacks.History at 0x12afed160>"
      ]
     },
     "execution_count": 12,
     "metadata": {},
     "output_type": "execute_result"
    }
   ],
   "source": [
    "### BEGIN SOLUTION\n",
    "\n",
    "# Analysis:\n",
    "#\n",
    "# Setting the learning rate value to a small value (e.g. lr=0.001 on\n",
    "# this dataset) makes the model train much slower (it has not\n",
    "# converged yet after 15 epochs).\n",
    "#\n",
    "# Using momentum tends to mitigate the small learning rate / slow\n",
    "# training problem a bit.\n",
    "#\n",
    "# Setting the learning rate to a very large value (e.g. lr=10)\n",
    "# makes the model bounce around randomly. Circling around a good local\n",
    "# minimum and therefore prevents it from reaching a low training loss even\n",
    "# after 30 epochs\n",
    "\n",
    "optimizer = optimizers.SGD(lr=0.1, momentum=0.9, nesterov=True)\n",
    "model.compile(optimizer=optimizer, loss='categorical_crossentropy',\n",
    "              metrics=['accuracy'])\n",
    "model.fit(X_train, Y_train, epochs=15, batch_size=32)\n",
    "\n",
    "### END SOLUTION"
   ]
  },
  {
   "cell_type": "markdown",
   "metadata": {},
   "source": [
    "- Replace the SGD optimizer by the Adam optimizer from keras and run it\n",
    "  with the default parameters.\n",
    "\n",
    "- Add another hidden layer and use the \"Rectified Linear Unit\" for each\n",
    "  hidden layer. Can you still train the model with Adam with its default global\n",
    "  learning rate?\n",
    "\n",
    "- Bonus: try the Adadelta optimizer (no learning rate to set).\n",
    "\n",
    "Hint: use `optimizers.<TAB>` to tab-complete the list of implemented optimizers in Keras."
   ]
  },
  {
   "cell_type": "code",
   "execution_count": 13,
   "metadata": {},
   "outputs": [
    {
     "name": "stdout",
     "output_type": "stream",
     "text": [
      "Epoch 1/15\n",
      "60000/60000 [==============================] - 3s 47us/step - loss: 1.8080 - acc: 0.8741\n",
      "Epoch 2/15\n",
      "60000/60000 [==============================] - 3s 47us/step - loss: 1.7476 - acc: 0.8779\n",
      "Epoch 3/15\n",
      "60000/60000 [==============================] - 3s 49us/step - loss: 1.7241 - acc: 0.8799\n",
      "Epoch 4/15\n",
      "60000/60000 [==============================] - 3s 44us/step - loss: 1.7069 - acc: 0.8812\n",
      "Epoch 5/15\n",
      "60000/60000 [==============================] - 3s 44us/step - loss: 1.6941 - acc: 0.8820\n",
      "Epoch 6/15\n",
      "60000/60000 [==============================] - 3s 43us/step - loss: 1.6819 - acc: 0.8825\n",
      "Epoch 7/15\n",
      "60000/60000 [==============================] - 3s 44us/step - loss: 1.6733 - acc: 0.8834\n",
      "Epoch 8/15\n",
      "60000/60000 [==============================] - 3s 45us/step - loss: 1.6639 - acc: 0.8837\n",
      "Epoch 9/15\n",
      "60000/60000 [==============================] - 3s 46us/step - loss: 1.6580 - acc: 0.8843\n",
      "Epoch 10/15\n",
      "60000/60000 [==============================] - 3s 47us/step - loss: 1.6458 - acc: 0.8845\n",
      "Epoch 11/15\n",
      "60000/60000 [==============================] - 3s 46us/step - loss: 1.6384 - acc: 0.8855\n",
      "Epoch 12/15\n",
      "60000/60000 [==============================] - 3s 45us/step - loss: 1.6346 - acc: 0.8859\n",
      "Epoch 13/15\n",
      "60000/60000 [==============================] - 3s 43us/step - loss: 1.6272 - acc: 0.8862\n",
      "Epoch 14/15\n",
      "60000/60000 [==============================] - 3s 45us/step - loss: 1.6214 - acc: 0.8861\n",
      "Epoch 15/15\n",
      "60000/60000 [==============================] - 3s 46us/step - loss: 1.6156 - acc: 0.8865\n"
     ]
    },
    {
     "data": {
      "text/plain": [
       "<keras.callbacks.History at 0x12afeda58>"
      ]
     },
     "execution_count": 13,
     "metadata": {},
     "output_type": "execute_result"
    }
   ],
   "source": [
    "### BEGIN SOLUTION\n",
    "\n",
    "model.compile(optimizer='adam',\n",
    "              loss='categorical_crossentropy',\n",
    "              metrics=['accuracy'])\n",
    "model.fit(X_train, Y_train, epochs=15, batch_size=32)\n",
    "\n",
    "### END SOLUTION"
   ]
  },
  {
   "cell_type": "code",
   "execution_count": 14,
   "metadata": {},
   "outputs": [
    {
     "name": "stdout",
     "output_type": "stream",
     "text": [
      "Epoch 1/15\n",
      "60000/60000 [==============================] - 3s 45us/step - loss: 1.6094 - acc: 0.8868\n",
      "Epoch 2/15\n",
      "60000/60000 [==============================] - 3s 43us/step - loss: 1.6037 - acc: 0.8873\n",
      "Epoch 3/15\n",
      "60000/60000 [==============================] - 3s 44us/step - loss: 1.5987 - acc: 0.8871\n",
      "Epoch 4/15\n",
      "60000/60000 [==============================] - 3s 44us/step - loss: 1.5936 - acc: 0.8875\n",
      "Epoch 5/15\n",
      "60000/60000 [==============================] - 3s 44us/step - loss: 1.5893 - acc: 0.8877\n",
      "Epoch 6/15\n",
      "60000/60000 [==============================] - 3s 44us/step - loss: 1.5826 - acc: 0.8882\n",
      "Epoch 7/15\n",
      "60000/60000 [==============================] - 3s 44us/step - loss: 1.5798 - acc: 0.8885\n",
      "Epoch 8/15\n",
      "60000/60000 [==============================] - 3s 44us/step - loss: 1.5765 - acc: 0.8883\n",
      "Epoch 9/15\n",
      "60000/60000 [==============================] - 3s 45us/step - loss: 1.5743 - acc: 0.8891\n",
      "Epoch 10/15\n",
      "60000/60000 [==============================] - 3s 48us/step - loss: 1.5695 - acc: 0.8891\n",
      "Epoch 11/15\n",
      "60000/60000 [==============================] - 3s 45us/step - loss: 1.5678 - acc: 0.8891\n",
      "Epoch 12/15\n",
      "60000/60000 [==============================] - 3s 43us/step - loss: 1.5632 - acc: 0.8892\n",
      "Epoch 13/15\n",
      "60000/60000 [==============================] - 3s 45us/step - loss: 1.5590 - acc: 0.8894\n",
      "Epoch 14/15\n",
      "60000/60000 [==============================] - 3s 45us/step - loss: 1.5569 - acc: 0.8892\n",
      "Epoch 15/15\n",
      "60000/60000 [==============================] - 3s 47us/step - loss: 1.5510 - acc: 0.8903\n"
     ]
    },
    {
     "data": {
      "text/plain": [
       "<keras.callbacks.History at 0x12ac95780>"
      ]
     },
     "execution_count": 14,
     "metadata": {},
     "output_type": "execute_result"
    }
   ],
   "source": [
    "### BEGIN SOLUTION\n",
    "\n",
    "inputs = Input(shape=(n_input,))\n",
    "\n",
    "h = Dense(n_hidden)(inputs)\n",
    "h = Activation('relu')(h)\n",
    "\n",
    "h = Dense(n_hidden)(inputs)\n",
    "h = Activation('relu')(h)\n",
    "\n",
    "y = Dense(n_classes)(inputs)\n",
    "y = Activation('softmax')(y)\n",
    "\n",
    "relu_model = Model(inputs, y)\n",
    "\n",
    "relu_model.compile(optimizer=\"adam\",\n",
    "                   loss='categorical_crossentropy',\n",
    "                   metrics=['accuracy'])\n",
    "model.fit(X_train, Y_train, epochs=15, batch_size=32)\n",
    "\n",
    "### END SOLUTION"
   ]
  },
  {
   "cell_type": "code",
   "execution_count": 15,
   "metadata": {},
   "outputs": [],
   "source": [
    "### BEGIN SOLUTION\n",
    "\n",
    "# Analysis:\n",
    "#\n",
    "# Adam with its default global learning rate of 0.001 tends to work\n",
    "# in many settings often converge as fast or faster than SGD\n",
    "# with a well tuned learning rate.\n",
    "#\n",
    "# Adadelta has no learning rate setting at all!\n",
    "#\n",
    "# References:\n",
    "#\n",
    "# Adadelta: https://arxiv.org/abs/1212.5701\n",
    "# Adam:     https://arxiv.org/abs/1412.6980\n",
    "\n",
    "### END SOLUTION"
   ]
  },
  {
   "cell_type": "markdown",
   "metadata": {},
   "source": [
    "### Exercises: forward pass and generalization\n",
    "\n",
    "Pick any or all of the different models you built above, and:\n",
    "\n",
    "- Compute predictions on the test set using `model.predict(...)`\n",
    "  - what do you get back from `predict()`? How do you conver it back to human readable labels?\n",
    "- Compute the average accuracy of the model on the test set"
   ]
  },
  {
   "cell_type": "code",
   "execution_count": 16,
   "metadata": {},
   "outputs": [
    {
     "name": "stdout",
     "output_type": "stream",
     "text": [
      "Train on 48000 samples, validate on 12000 samples\n",
      "Epoch 1/15\n",
      "48000/48000 [==============================] - 2s 49us/step - loss: 0.5927 - acc: 0.7955 - val_loss: 0.4892 - val_acc: 0.8309\n",
      "Epoch 2/15\n",
      "48000/48000 [==============================] - 2s 45us/step - loss: 0.4662 - acc: 0.8411 - val_loss: 0.4650 - val_acc: 0.8405\n",
      "Epoch 3/15\n",
      "48000/48000 [==============================] - 2s 45us/step - loss: 0.4418 - acc: 0.8485 - val_loss: 0.4534 - val_acc: 0.8421\n",
      "Epoch 4/15\n",
      "48000/48000 [==============================] - 2s 46us/step - loss: 0.4295 - acc: 0.8530 - val_loss: 0.4428 - val_acc: 0.8454\n",
      "Epoch 5/15\n",
      "48000/48000 [==============================] - 2s 45us/step - loss: 0.4201 - acc: 0.8554 - val_loss: 0.4362 - val_acc: 0.8522\n",
      "Epoch 6/15\n",
      "48000/48000 [==============================] - 2s 46us/step - loss: 0.4131 - acc: 0.8586 - val_loss: 0.4352 - val_acc: 0.8507\n",
      "Epoch 7/15\n",
      "48000/48000 [==============================] - 2s 45us/step - loss: 0.4084 - acc: 0.8606 - val_loss: 0.4299 - val_acc: 0.8557\n",
      "Epoch 8/15\n",
      "48000/48000 [==============================] - 2s 45us/step - loss: 0.4037 - acc: 0.8608 - val_loss: 0.4304 - val_acc: 0.8519\n",
      "Epoch 9/15\n",
      "48000/48000 [==============================] - 2s 45us/step - loss: 0.4004 - acc: 0.8630 - val_loss: 0.4302 - val_acc: 0.8508\n",
      "Epoch 10/15\n",
      "48000/48000 [==============================] - 2s 45us/step - loss: 0.3969 - acc: 0.8635 - val_loss: 0.4359 - val_acc: 0.8511\n",
      "Epoch 11/15\n",
      "48000/48000 [==============================] - 2s 45us/step - loss: 0.3941 - acc: 0.8645 - val_loss: 0.4303 - val_acc: 0.8557\n",
      "Epoch 12/15\n",
      "48000/48000 [==============================] - 2s 45us/step - loss: 0.3915 - acc: 0.8654 - val_loss: 0.4289 - val_acc: 0.8541\n",
      "Epoch 13/15\n",
      "48000/48000 [==============================] - 2s 46us/step - loss: 0.3895 - acc: 0.8661 - val_loss: 0.4385 - val_acc: 0.8492\n",
      "Epoch 14/15\n",
      "48000/48000 [==============================] - 2s 46us/step - loss: 0.3870 - acc: 0.8670 - val_loss: 0.4325 - val_acc: 0.8535\n",
      "Epoch 15/15\n",
      "48000/48000 [==============================] - 2s 48us/step - loss: 0.3864 - acc: 0.8661 - val_loss: 0.4234 - val_acc: 0.8570\n",
      "test acc: 0.8436\n"
     ]
    },
    {
     "data": {
      "image/png": "[encoded data removed]",
      "text/plain": [
       "<Figure size 864x648 with 15 Axes>"
      ]
     },
     "metadata": {},
     "output_type": "display_data"
    }
   ],
   "source": [
    "### BEGIN SOLUTION\n",
    "\n",
    "inputs = Input(shape=(n_input,))\n",
    "\n",
    "h = Dense(n_hidden)(inputs)\n",
    "h = Activation('tanh')(h)\n",
    "\n",
    "y = Dense(n_classes)(inputs)\n",
    "y = Activation('softmax')(y)\n",
    "\n",
    "model = Model(inputs, y)\n",
    "\n",
    "model.compile(optimizer=optimizers.SGD(lr=0.01),\n",
    "              loss='categorical_crossentropy',\n",
    "              metrics=['accuracy'])\n",
    "\n",
    "model.fit(X_train, Y_train, epochs=15, batch_size=32, validation_split=0.2)\n",
    "\n",
    "# Compute predictions and convert into class labels\n",
    "y_pred = model.predict(X_test)\n",
    "y_pred = np.argmax(y_pred, axis=1)\n",
    "\n",
    "\n",
    "# Display the first few images, the predicted labels and the true labels\n",
    "plt.figure(figsize=(12, 9))\n",
    "for i in range(15):\n",
    "    plt.subplot(3, 5, i + 1)\n",
    "    plt.imshow(scaler.inverse_transform(X_test[i]).reshape(28, 28),\n",
    "               cmap=plt.cm.gray_r, interpolation='nearest')\n",
    "    plt.title(\"predicted label: %d\\n true label: %d\"\n",
    "              % (y_pred[i], y_test[i]))\n",
    "\n",
    "print(\"test acc: %0.4f\" % np.mean(np.equal(y_pred, y_test)))\n",
    "\n",
    "### END SOLUTION"
   ]
  },
  {
   "cell_type": "code",
   "execution_count": null,
   "metadata": {},
   "outputs": [],
   "source": []
  }
 ],
 "metadata": {
  "kernelspec": {
   "display_name": "Python 3",
   "language": "python",
   "name": "python3"
  },
  "language_info": {
   "codemirror_mode": {
    "name": "ipython",
    "version": 3
   },
   "file_extension": ".py",
   "mimetype": "text/x-python",
   "name": "python",
   "nbconvert_exporter": "python",
   "pygments_lexer": "ipython3",
   "version": "3.6.5"
  }
 },
 "nbformat": 4,
 "nbformat_minor": 1
}
