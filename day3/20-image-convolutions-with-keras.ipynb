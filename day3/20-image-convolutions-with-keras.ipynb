{
 "cells": [
  {
   "cell_type": "markdown",
   "metadata": {},
   "source": [
    "# Using keras to apply filters to images\n",
    "\n",
    "Example of using keras to apply traditional image filters to images. Instead of trying to learn the filters/kernels here we provide some filters by hand and simply use keras to apply them to the data.\n",
    "\n",
    "This is useful to get a better feeling for what happens when you convolve an image with a kernel. We know what each kernel should do, there are only a few of them so we can look at each, etc"
   ]
  },
  {
   "cell_type": "code",
   "execution_count": 1,
   "metadata": {},
   "outputs": [],
   "source": [
    "%config InlineBackend.figure_format='retina'\n",
    "%matplotlib inline\n",
    "\n",
    "# Silence warnings\n",
    "import warnings\n",
    "warnings.simplefilter(action=\"ignore\", category=FutureWarning)\n",
    "warnings.simplefilter(action=\"ignore\", category=UserWarning)\n",
    "warnings.simplefilter(action=\"ignore\", category=RuntimeWarning)\n",
    "\n",
    "import numpy as np\n",
    "np.random.seed(123)\n",
    "import matplotlib.pyplot as plt\n",
    "plt.rcParams[\"figure.figsize\"] = (8, 8)\n",
    "plt.rcParams[\"font.size\"] = 14"
   ]
  },
  {
   "cell_type": "code",
   "execution_count": 2,
   "metadata": {},
   "outputs": [],
   "source": [
    "from keras.models import Model\n",
    "# Conv2D is the operator to apply a convolution in 2D\n",
    "# there are also 1D and 3D versions\n",
    "from keras.layers import Conv2D, Input\n",
    "\n",
    "from keras.datasets import mnist"
   ]
  },
  {
   "cell_type": "code",
   "execution_count": 3,
   "metadata": {},
   "outputs": [],
   "source": [
    "# Load the MNIST digits dataset\n",
    "(X_train, _), (_, _) = mnist.load_data()\n",
    "\n",
    "X_train = X_train.reshape(X_train.shape[0], 28, 28, 1).astype(np.float64)\n",
    "\n",
    "X_train /= 255\n",
    "\n",
    "# add some noise\n",
    "X_train_noisy = X_train + 0.05 * np.random.normal(loc=0.0, scale=1.0, size=X_train.shape)"
   ]
  },
  {
   "cell_type": "code",
   "execution_count": 4,
   "metadata": {},
   "outputs": [],
   "source": [
    "# These are some very simple filters that detect\n",
    "# basic things in an image.\n",
    "horizontal_edge = [[0, 1., 0],\n",
    "                   [0, -1., 0],\n",
    "                   [0, 0, 0]]\n",
    "vertical_edge = [[0, 0, 0],\n",
    "                 [1, -1., 0],\n",
    "                 [0, 0, 0]]\n",
    "gaussian_filter = [[0.077847, 0.123317, 0.077847],\n",
    "                   [0.123317, 0.195346, 0.123317],\n",
    "                   [0.077847, 0.123317, 0.077847]]"
   ]
  },
  {
   "cell_type": "code",
   "execution_count": 5,
   "metadata": {},
   "outputs": [],
   "source": [
    "# This is our simple NN that consists of a single\n",
    "# Conv2D operator. We have three kernels that are\n",
    "# each 3x3 pixels big.\n",
    "x = Input((28, 28, 1))\n",
    "h = Conv2D(3, (3,3))(x)\n",
    "conv = Model(x, h)"
   ]
  },
  {
   "cell_type": "code",
   "execution_count": 6,
   "metadata": {},
   "outputs": [],
   "source": [
    "def set_filter(kernel1, kernel2, kernel3):\n",
    "    kernels, b = conv.get_weights()\n",
    "    kernels[:,:,0,0] = kernel1\n",
    "    kernels[:,:,0,1] = kernel2\n",
    "    kernels[:,:,0,2] = kernel3\n",
    "    conv.set_weights([kernels, b])"
   ]
  },
  {
   "cell_type": "code",
   "execution_count": 7,
   "metadata": {},
   "outputs": [],
   "source": [
    "set_filter(horizontal_edge, vertical_edge, gaussian_filter)"
   ]
  },
  {
   "cell_type": "code",
   "execution_count": 8,
   "metadata": {},
   "outputs": [],
   "source": [
    "# use the single filter and apply it to the first few training examples\n",
    "n_examples = 4\n",
    "X_conv = conv.predict(X_train_noisy[:n_examples])"
   ]
  },
  {
   "cell_type": "code",
   "execution_count": 9,
   "metadata": {
    "scrolled": false
   },
   "outputs": [],
   "source": [
    "fig, axs = plt.subplots(n_examples, 4, figsize=(8*4, 8*n_examples))\n",
    "for n, (ax1, ax2, ax3, ax4) in enumerate(axs):\n",
    "    ax1.imshow(X_train_noisy[n,:,:,0], cmap=plt.cm.binary)\n",
    "    ax2.imshow(X_conv[n,:,:,0], cmap=plt.cm.binary)\n",
    "    ax3.imshow(X_conv[n,:,:,1], cmap=plt.cm.binary)\n",
    "    ax4.imshow(X_conv[n,:,:,2], cmap=plt.cm.binary)"
   ]
  },
  {
   "cell_type": "markdown",
   "metadata": {
    "collapsed": true
   },
   "source": [
    "## Questions\n",
    "\n",
    "Do you understand what you see?\n",
    "* does the right kind of filter produce the right kind of behaviour?\n",
    "* what are the different images shown per row?\n",
    "* what if you put in more kernels?\n",
    "* what if you change the size of the kernels?\n",
    "* what is the size of the outputs?\n",
    "\n",
    "Hint: google for some typical/well known image kernels and explore what they do."
   ]
  },
  {
   "cell_type": "markdown",
   "metadata": {},
   "source": [
    "## More convolutions\n",
    "\n",
    "Let's apply some more convolutions to a more natural image."
   ]
  },
  {
   "cell_type": "code",
   "execution_count": 10,
   "metadata": {},
   "outputs": [],
   "source": [
    "# Use scikit-image to load images from disk\n",
    "from skimage.io import imread\n",
    "from skimage.transform import resize"
   ]
  },
  {
   "cell_type": "code",
   "execution_count": 11,
   "metadata": {},
   "outputs": [],
   "source": [
    "# Maybe grab an image of your own here\n",
    "sample_image = imread(\"laptop2.jpg\")\n",
    "sample_image= sample_image.astype(float)\n",
    "\n",
    "size = sample_image.shape\n",
    "print(\"sample image shape: \", sample_image.shape)\n",
    "\n",
    "plt.imshow(sample_image.astype('uint8'));"
   ]
  },
  {
   "cell_type": "markdown",
   "metadata": {},
   "source": [
    "We will define a simple network that applies a convolutio to the image. Make sure it uses three kernels of size `5x5`. Investigate the `padding` argument. Set it so that the output image has the same size as the input (`padding='same'`).\n",
    "\n",
    "How would you specify the input shape so that it works with images of any size? Hint: a size of `None` tells keras that the size will be defined at run time."
   ]
  },
  {
   "cell_type": "code",
   "execution_count": 12,
   "metadata": {},
   "outputs": [],
   "source": [
    "# YOUR CODE HERE\n",
    "raise NotImplementedError()"
   ]
  },
  {
   "cell_type": "markdown",
   "metadata": {},
   "source": [
    "Do you understand your model's `output_shape` property?\n",
    "\n",
    "> If your image is large (like the example image) it is worth resizing it first to use less memory.\n",
    "\n",
    "Keras expects you to pass in a batch of images. Even if this batch only contains one image:"
   ]
  },
  {
   "cell_type": "code",
   "execution_count": 13,
   "metadata": {},
   "outputs": [],
   "source": [
    "small_sample_image = resize(sample_image, (800, 600))\n",
    "img_in = np.expand_dims(small_sample_image, 0)\n",
    "img_in.shape"
   ]
  },
  {
   "cell_type": "markdown",
   "metadata": {},
   "source": [
    "Apply this uninitialised/random filter to your image and plot it."
   ]
  },
  {
   "cell_type": "code",
   "execution_count": 14,
   "metadata": {},
   "outputs": [],
   "source": [
    "img_out = conv.predict(img_in)\n",
    "\n",
    "print(img_in.shape, img_out.shape)\n",
    "\n",
    "fig, (ax0, ax1) = plt.subplots(ncols=2, figsize=(10, 5))\n",
    "ax0.imshow(sample_image.astype('uint8'))\n",
    "ax1.imshow(img_out[0].astype('uint8'));"
   ]
  },
  {
   "cell_type": "markdown",
   "metadata": {},
   "source": [
    "The output has 3 channels, hence can also be interpreted as an RGB image with matplotlib. However it is the result of a random convolutional filter applied to the original one.\n",
    "\n",
    "\n",
    "Let's look at the parameters:"
   ]
  },
  {
   "cell_type": "code",
   "execution_count": 15,
   "metadata": {},
   "outputs": [],
   "source": [
    "conv.summary()"
   ]
  },
  {
   "cell_type": "markdown",
   "metadata": {},
   "source": [
    "The input image has 3 colors and a single convolution kernel mixes information from all the three input channels to compute its output.\n",
    "\n",
    "A convolutional layer outputs many channels at once: each channel is the output of a distinct convolution operation (aka unit) of the layer.\n",
    "\n",
    "So if you have three kernels (or filters) the output of your convolutional layer will be three feature maps. If there are three of them it feels natural to interpret them as the new \"colours\" and plot the resulting image.\n",
    "\n",
    "Let's inspect the weights:"
   ]
  },
  {
   "cell_type": "code",
   "execution_count": 16,
   "metadata": {},
   "outputs": [],
   "source": [
    "len(conv.get_weights())"
   ]
  },
  {
   "cell_type": "code",
   "execution_count": 17,
   "metadata": {},
   "outputs": [],
   "source": [
    "weights = conv.get_weights()[0]\n",
    "weights.shape"
   ]
  },
  {
   "cell_type": "markdown",
   "metadata": {},
   "source": [
    "Each of the 3 output channels is generated by a distinct convolution kernel.\n",
    "\n",
    "Each convolution kernel has a spatial size of 5x5 and operates across 3 input channels."
   ]
  },
  {
   "cell_type": "code",
   "execution_count": null,
   "metadata": {},
   "outputs": [],
   "source": []
  }
 ],
 "metadata": {
  "kernelspec": {
   "display_name": "Python 3",
   "language": "python",
   "name": "python3"
  },
  "language_info": {
   "codemirror_mode": {
    "name": "ipython",
    "version": 3
   },
   "file_extension": ".py",
   "mimetype": "text/x-python",
   "name": "python",
   "nbconvert_exporter": "python",
   "pygments_lexer": "ipython3",
   "version": "3.6.2"
  }
 },
 "nbformat": 4,
 "nbformat_minor": 2
}
