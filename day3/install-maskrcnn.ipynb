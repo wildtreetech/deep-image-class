{
 "cells": [
  {
   "cell_type": "markdown",
   "metadata": {},
   "source": [
    "The following will download a pretrained neural net model for the notebook on image classification."
   ]
  },
  {
   "cell_type": "code",
   "execution_count": 1,
   "metadata": {},
   "outputs": [
    {
     "name": "stderr",
     "output_type": "stream",
     "text": [
      "Using TensorFlow backend.\n"
     ]
    }
   ],
   "source": [
    "from keras.applications.resnet50 import preprocess_input, ResNet50\n",
    "model = ResNet50(weights='imagenet')"
   ]
  },
  {
   "cell_type": "markdown",
   "metadata": {},
   "source": [
    "The following install a third party library and downloads a large (246MB) pretrained model."
   ]
  },
  {
   "cell_type": "code",
   "execution_count": 2,
   "metadata": {},
   "outputs": [],
   "source": [
    "import os\n",
    "import os.path as op\n",
    "from time import time\n",
    "import zipfile\n",
    "try:\n",
    "    from urllib.request import urlretrieve\n",
    "except ImportError:\n",
    "    from urllib import urlretrieve\n",
    "\n",
    "\n",
    "url = \"https://github.com/matterport/Mask_RCNN/archive/master.zip\"\n",
    "folder = 'maskrcnn'\n",
    "filename = \"Mask_RCNN-master.zip\"\n",
    "if not op.exists(folder):\n",
    "    if not op.exists(filename):\n",
    "        tic = time()\n",
    "        print('Downloading %s to %s (can take a couple of minutes)...'\n",
    "              % (url, filename))\n",
    "        urlretrieve(url, filename)\n",
    "        print('done in {:0.3f}s.'.format(time() - tic))\n",
    "    print('Extracting archive to {}...'.format(folder))\n",
    "    zipfile.ZipFile(filename).extractall('.')\n",
    "    os.rename('Mask_RCNN-master', folder)"
   ]
  },
  {
   "cell_type": "code",
   "execution_count": 5,
   "metadata": {},
   "outputs": [
    {
     "name": "stdout",
     "output_type": "stream",
     "text": [
      "Obtaining file:///Users/thead/git/wtt/deep-image-class/day3/maskrcnn\n",
      "Requirement already satisfied: numpy in /Users/thead/anaconda/envs/deep-image-class/lib/python3.6/site-packages (from mask-rcnn==2.1)\n",
      "Requirement already satisfied: scipy in /Users/thead/anaconda/envs/deep-image-class/lib/python3.6/site-packages (from mask-rcnn==2.1)\n",
      "Requirement already satisfied: Pillow in /Users/thead/anaconda/envs/deep-image-class/lib/python3.6/site-packages (from mask-rcnn==2.1)\n",
      "Collecting cython (from mask-rcnn==2.1)\n",
      "  Using cached https://files.pythonhosted.org/packages/bb/7c/236ca25870bf6f369ba6690b3585d8617592b3f9b049d2bdb3d96ec89bc2/Cython-0.28.4-cp36-cp36m-macosx_10_6_intel.macosx_10_9_intel.macosx_10_9_x86_64.macosx_10_10_intel.macosx_10_10_x86_64.whl\n",
      "Requirement already satisfied: matplotlib in /Users/thead/anaconda/envs/deep-image-class/lib/python3.6/site-packages (from mask-rcnn==2.1)\n",
      "Requirement already satisfied: scikit-image in /Users/thead/anaconda/envs/deep-image-class/lib/python3.6/site-packages (from mask-rcnn==2.1)\n",
      "Requirement already satisfied: tensorflow>=1.3.0 in /Users/thead/anaconda/envs/deep-image-class/lib/python3.6/site-packages (from mask-rcnn==2.1)\n",
      "Requirement already satisfied: keras>=2.0.8 in /Users/thead/anaconda/envs/deep-image-class/lib/python3.6/site-packages (from mask-rcnn==2.1)\n",
      "Collecting opencv-python (from mask-rcnn==2.1)\n",
      "  Using cached https://files.pythonhosted.org/packages/e1/4a/7b9821af03b70b45946cf597cfcfc30e3025257fb0c4c350b2e9d693ef7d/opencv_python-3.4.1.15-cp36-cp36m-macosx_10_6_intel.macosx_10_9_intel.macosx_10_9_x86_64.macosx_10_10_intel.macosx_10_10_x86_64.whl\n",
      "Requirement already satisfied: h5py in /Users/thead/anaconda/envs/deep-image-class/lib/python3.6/site-packages (from mask-rcnn==2.1)\n",
      "Collecting imgaug (from mask-rcnn==2.1)\n",
      "Requirement already satisfied: IPython[all] in /Users/thead/anaconda/envs/deep-image-class/lib/python3.6/site-packages (from mask-rcnn==2.1)\n",
      "Requirement already satisfied: cycler>=0.10 in /Users/thead/anaconda/envs/deep-image-class/lib/python3.6/site-packages (from matplotlib->mask-rcnn==2.1)\n",
      "Requirement already satisfied: pyparsing!=2.0.4,!=2.1.2,!=2.1.6,>=2.0.1 in /Users/thead/anaconda/envs/deep-image-class/lib/python3.6/site-packages (from matplotlib->mask-rcnn==2.1)\n",
      "Requirement already satisfied: python-dateutil>=2.1 in /Users/thead/anaconda/envs/deep-image-class/lib/python3.6/site-packages (from matplotlib->mask-rcnn==2.1)\n",
      "Requirement already satisfied: pytz in /Users/thead/anaconda/envs/deep-image-class/lib/python3.6/site-packages (from matplotlib->mask-rcnn==2.1)\n",
      "Requirement already satisfied: six>=1.10 in /Users/thead/anaconda/envs/deep-image-class/lib/python3.6/site-packages (from matplotlib->mask-rcnn==2.1)\n",
      "Requirement already satisfied: kiwisolver>=1.0.1 in /Users/thead/anaconda/envs/deep-image-class/lib/python3.6/site-packages (from matplotlib->mask-rcnn==2.1)\n",
      "Requirement already satisfied: networkx>=1.8 in /Users/thead/anaconda/envs/deep-image-class/lib/python3.6/site-packages (from scikit-image->mask-rcnn==2.1)\n",
      "Requirement already satisfied: PyWavelets>=0.4.0 in /Users/thead/anaconda/envs/deep-image-class/lib/python3.6/site-packages (from scikit-image->mask-rcnn==2.1)\n",
      "Requirement already satisfied: dask[array]>=0.9.0 in /Users/thead/anaconda/envs/deep-image-class/lib/python3.6/site-packages (from scikit-image->mask-rcnn==2.1)\n",
      "Requirement already satisfied: cloudpickle>=0.2.1 in /Users/thead/anaconda/envs/deep-image-class/lib/python3.6/site-packages (from scikit-image->mask-rcnn==2.1)\n",
      "Requirement already satisfied: tensorflow-tensorboard<1.6.0,>=1.5.0 in /Users/thead/anaconda/envs/deep-image-class/lib/python3.6/site-packages (from tensorflow>=1.3.0->mask-rcnn==2.1)\n",
      "Requirement already satisfied: absl-py>=0.1.6 in /Users/thead/anaconda/envs/deep-image-class/lib/python3.6/site-packages (from tensorflow>=1.3.0->mask-rcnn==2.1)\n",
      "Requirement already satisfied: protobuf>=3.4.0 in /Users/thead/anaconda/envs/deep-image-class/lib/python3.6/site-packages (from tensorflow>=1.3.0->mask-rcnn==2.1)\n",
      "Requirement already satisfied: wheel>=0.26 in /Users/thead/anaconda/envs/deep-image-class/lib/python3.6/site-packages (from tensorflow>=1.3.0->mask-rcnn==2.1)\n",
      "Requirement already satisfied: pyyaml in /Users/thead/anaconda/envs/deep-image-class/lib/python3.6/site-packages (from keras>=2.0.8->mask-rcnn==2.1)\n",
      "Requirement already satisfied: setuptools>=18.5 in /Users/thead/anaconda/envs/deep-image-class/lib/python3.6/site-packages (from IPython[all]->mask-rcnn==2.1)\n",
      "Requirement already satisfied: jedi>=0.10 in /Users/thead/anaconda/envs/deep-image-class/lib/python3.6/site-packages (from IPython[all]->mask-rcnn==2.1)\n",
      "Requirement already satisfied: decorator in /Users/thead/anaconda/envs/deep-image-class/lib/python3.6/site-packages (from IPython[all]->mask-rcnn==2.1)\n",
      "Requirement already satisfied: pickleshare in /Users/thead/anaconda/envs/deep-image-class/lib/python3.6/site-packages (from IPython[all]->mask-rcnn==2.1)\n",
      "Requirement already satisfied: simplegeneric>0.8 in /Users/thead/anaconda/envs/deep-image-class/lib/python3.6/site-packages (from IPython[all]->mask-rcnn==2.1)\n",
      "Requirement already satisfied: traitlets>=4.2 in /Users/thead/anaconda/envs/deep-image-class/lib/python3.6/site-packages (from IPython[all]->mask-rcnn==2.1)\n",
      "Requirement already satisfied: prompt_toolkit<2.0.0,>=1.0.15 in /Users/thead/anaconda/envs/deep-image-class/lib/python3.6/site-packages (from IPython[all]->mask-rcnn==2.1)\n",
      "Requirement already satisfied: pygments in /Users/thead/anaconda/envs/deep-image-class/lib/python3.6/site-packages (from IPython[all]->mask-rcnn==2.1)\n",
      "Requirement already satisfied: backcall in /Users/thead/anaconda/envs/deep-image-class/lib/python3.6/site-packages (from IPython[all]->mask-rcnn==2.1)\n",
      "Requirement already satisfied: appnope in /Users/thead/anaconda/envs/deep-image-class/lib/python3.6/site-packages (from IPython[all]->mask-rcnn==2.1)\n",
      "Requirement already satisfied: pexpect in /Users/thead/anaconda/envs/deep-image-class/lib/python3.6/site-packages (from IPython[all]->mask-rcnn==2.1)\n",
      "Collecting Sphinx>=1.3 (from IPython[all]->mask-rcnn==2.1)\n",
      "  Using cached https://files.pythonhosted.org/packages/1b/9f/98d67201c5a6e1aececed03a44a819d0e32adba81414081e303cfaf8c54c/Sphinx-1.7.5-py2.py3-none-any.whl\n",
      "Requirement already satisfied: ipykernel in /Users/thead/anaconda/envs/deep-image-class/lib/python3.6/site-packages (from IPython[all]->mask-rcnn==2.1)\n",
      "Requirement already satisfied: nbconvert in /Users/thead/anaconda/envs/deep-image-class/lib/python3.6/site-packages (from IPython[all]->mask-rcnn==2.1)\n",
      "Collecting nose>=0.10.1 (from IPython[all]->mask-rcnn==2.1)\n",
      "  Using cached https://files.pythonhosted.org/packages/15/d8/dd071918c040f50fa1cf80da16423af51ff8ce4a0f2399b7bf8de45ac3d9/nose-1.3.7-py3-none-any.whl\n",
      "Requirement already satisfied: testpath in /Users/thead/anaconda/envs/deep-image-class/lib/python3.6/site-packages (from IPython[all]->mask-rcnn==2.1)\n",
      "Requirement already satisfied: ipywidgets in /Users/thead/anaconda/envs/deep-image-class/lib/python3.6/site-packages (from IPython[all]->mask-rcnn==2.1)\n",
      "Requirement already satisfied: requests in /Users/thead/anaconda/envs/deep-image-class/lib/python3.6/site-packages (from IPython[all]->mask-rcnn==2.1)\n",
      "Requirement already satisfied: notebook in /Users/thead/anaconda/envs/deep-image-class/lib/python3.6/site-packages (from IPython[all]->mask-rcnn==2.1)\n",
      "Requirement already satisfied: qtconsole in /Users/thead/anaconda/envs/deep-image-class/lib/python3.6/site-packages (from IPython[all]->mask-rcnn==2.1)\n",
      "Requirement already satisfied: nbformat in /Users/thead/anaconda/envs/deep-image-class/lib/python3.6/site-packages (from IPython[all]->mask-rcnn==2.1)\n",
      "Collecting ipyparallel (from IPython[all]->mask-rcnn==2.1)\n",
      "  Using cached https://files.pythonhosted.org/packages/28/4b/418ef01bc850bb44854295ef892dba2c3a5eb44e0cd65f88100c200dd74a/ipyparallel-6.2.2-py2.py3-none-any.whl\n",
      "Requirement already satisfied: toolz>=0.7.3 in /Users/thead/anaconda/envs/deep-image-class/lib/python3.6/site-packages (from dask[array]>=0.9.0->scikit-image->mask-rcnn==2.1)\n",
      "Requirement already satisfied: html5lib==0.9999999 in /Users/thead/anaconda/envs/deep-image-class/lib/python3.6/site-packages (from tensorflow-tensorboard<1.6.0,>=1.5.0->tensorflow>=1.3.0->mask-rcnn==2.1)\n",
      "Requirement already satisfied: werkzeug>=0.11.10 in /Users/thead/anaconda/envs/deep-image-class/lib/python3.6/site-packages (from tensorflow-tensorboard<1.6.0,>=1.5.0->tensorflow>=1.3.0->mask-rcnn==2.1)\n",
      "Requirement already satisfied: markdown>=2.6.8 in /Users/thead/anaconda/envs/deep-image-class/lib/python3.6/site-packages (from tensorflow-tensorboard<1.6.0,>=1.5.0->tensorflow>=1.3.0->mask-rcnn==2.1)\n",
      "Requirement already satisfied: bleach==1.5.0 in /Users/thead/anaconda/envs/deep-image-class/lib/python3.6/site-packages (from tensorflow-tensorboard<1.6.0,>=1.5.0->tensorflow>=1.3.0->mask-rcnn==2.1)\n",
      "Requirement already satisfied: parso>=0.2.0 in /Users/thead/anaconda/envs/deep-image-class/lib/python3.6/site-packages (from jedi>=0.10->IPython[all]->mask-rcnn==2.1)\n",
      "Requirement already satisfied: ipython-genutils in /Users/thead/anaconda/envs/deep-image-class/lib/python3.6/site-packages (from traitlets>=4.2->IPython[all]->mask-rcnn==2.1)\n",
      "Requirement already satisfied: wcwidth in /Users/thead/anaconda/envs/deep-image-class/lib/python3.6/site-packages (from prompt_toolkit<2.0.0,>=1.0.15->IPython[all]->mask-rcnn==2.1)\n",
      "Requirement already satisfied: ptyprocess>=0.5 in /Users/thead/anaconda/envs/deep-image-class/lib/python3.6/site-packages (from pexpect->IPython[all]->mask-rcnn==2.1)\n"
     ]
    },
    {
     "name": "stdout",
     "output_type": "stream",
     "text": [
      "Collecting docutils>=0.11 (from Sphinx>=1.3->IPython[all]->mask-rcnn==2.1)\n",
      "  Using cached https://files.pythonhosted.org/packages/36/fa/08e9e6e0e3cbd1d362c3bbee8d01d0aedb2155c4ac112b19ef3cae8eed8d/docutils-0.14-py3-none-any.whl\n",
      "Collecting imagesize (from Sphinx>=1.3->IPython[all]->mask-rcnn==2.1)\n",
      "  Using cached https://files.pythonhosted.org/packages/e9/79/31cc1c2e0daf575f8fd2b581e2975e6a6938bd439581f766b79c50479521/imagesize-1.0.0-py2.py3-none-any.whl\n",
      "Collecting snowballstemmer>=1.1 (from Sphinx>=1.3->IPython[all]->mask-rcnn==2.1)\n",
      "  Using cached https://files.pythonhosted.org/packages/d4/6c/8a935e2c7b54a37714656d753e4187ee0631988184ed50c0cf6476858566/snowballstemmer-1.2.1-py2.py3-none-any.whl\n",
      "Collecting packaging (from Sphinx>=1.3->IPython[all]->mask-rcnn==2.1)\n",
      "  Using cached https://files.pythonhosted.org/packages/ad/c2/b500ea05d5f9f361a562f089fc91f77ed3b4783e13a08a3daf82069b1224/packaging-17.1-py2.py3-none-any.whl\n",
      "Collecting sphinxcontrib-websupport (from Sphinx>=1.3->IPython[all]->mask-rcnn==2.1)\n",
      "  Using cached https://files.pythonhosted.org/packages/52/69/3c2fbdc3702358c5b34ee25e387b24838597ef099761fc9a42c166796e8f/sphinxcontrib_websupport-1.1.0-py2.py3-none-any.whl\n",
      "Collecting babel!=2.0,>=1.3 (from Sphinx>=1.3->IPython[all]->mask-rcnn==2.1)\n",
      "  Using cached https://files.pythonhosted.org/packages/b8/ad/c6f60602d3ee3d92fbed87675b6fb6a6f9a38c223343ababdb44ba201f10/Babel-2.6.0-py2.py3-none-any.whl\n",
      "Requirement already satisfied: Jinja2>=2.3 in /Users/thead/anaconda/envs/deep-image-class/lib/python3.6/site-packages (from Sphinx>=1.3->IPython[all]->mask-rcnn==2.1)\n",
      "Collecting alabaster<0.8,>=0.7 (from Sphinx>=1.3->IPython[all]->mask-rcnn==2.1)\n",
      "  Using cached https://files.pythonhosted.org/packages/6e/71/c3648cc2f675063dbe2d669004a59e4a5120172713a1de3c3b14144d4b31/alabaster-0.7.11-py2.py3-none-any.whl\n",
      "Requirement already satisfied: tornado>=4.0 in /Users/thead/anaconda/envs/deep-image-class/lib/python3.6/site-packages (from ipykernel->IPython[all]->mask-rcnn==2.1)\n",
      "Requirement already satisfied: jupyter-client in /Users/thead/anaconda/envs/deep-image-class/lib/python3.6/site-packages (from ipykernel->IPython[all]->mask-rcnn==2.1)\n",
      "Requirement already satisfied: entrypoints>=0.2.2 in /Users/thead/anaconda/envs/deep-image-class/lib/python3.6/site-packages (from nbconvert->IPython[all]->mask-rcnn==2.1)\n",
      "Requirement already satisfied: jupyter-core in /Users/thead/anaconda/envs/deep-image-class/lib/python3.6/site-packages (from nbconvert->IPython[all]->mask-rcnn==2.1)\n",
      "Requirement already satisfied: pandocfilters>=1.4.1 in /Users/thead/anaconda/envs/deep-image-class/lib/python3.6/site-packages (from nbconvert->IPython[all]->mask-rcnn==2.1)\n",
      "Requirement already satisfied: mistune>=0.7.4 in /Users/thead/anaconda/envs/deep-image-class/lib/python3.6/site-packages (from nbconvert->IPython[all]->mask-rcnn==2.1)\n",
      "Requirement already satisfied: widgetsnbextension~=3.2.0 in /Users/thead/anaconda/envs/deep-image-class/lib/python3.6/site-packages (from ipywidgets->IPython[all]->mask-rcnn==2.1)\n",
      "Requirement already satisfied: idna<2.8,>=2.5 in /Users/thead/anaconda/envs/deep-image-class/lib/python3.6/site-packages (from requests->IPython[all]->mask-rcnn==2.1)\n",
      "Requirement already satisfied: chardet<3.1.0,>=3.0.2 in /Users/thead/anaconda/envs/deep-image-class/lib/python3.6/site-packages (from requests->IPython[all]->mask-rcnn==2.1)\n",
      "Requirement already satisfied: certifi>=2017.4.17 in /Users/thead/anaconda/envs/deep-image-class/lib/python3.6/site-packages (from requests->IPython[all]->mask-rcnn==2.1)\n",
      "Requirement already satisfied: urllib3<1.24,>=1.21.1 in /Users/thead/anaconda/envs/deep-image-class/lib/python3.6/site-packages (from requests->IPython[all]->mask-rcnn==2.1)\n",
      "Requirement already satisfied: pyzmq>=17 in /Users/thead/anaconda/envs/deep-image-class/lib/python3.6/site-packages (from notebook->IPython[all]->mask-rcnn==2.1)\n",
      "Requirement already satisfied: Send2Trash in /Users/thead/anaconda/envs/deep-image-class/lib/python3.6/site-packages (from notebook->IPython[all]->mask-rcnn==2.1)\n",
      "Requirement already satisfied: terminado>=0.8.1 in /Users/thead/anaconda/envs/deep-image-class/lib/python3.6/site-packages (from notebook->IPython[all]->mask-rcnn==2.1)\n",
      "Requirement already satisfied: jsonschema!=2.5.0,>=2.4 in /Users/thead/anaconda/envs/deep-image-class/lib/python3.6/site-packages (from nbformat->IPython[all]->mask-rcnn==2.1)\n",
      "Requirement already satisfied: MarkupSafe>=0.23 in /Users/thead/anaconda/envs/deep-image-class/lib/python3.6/site-packages (from Jinja2>=2.3->Sphinx>=1.3->IPython[all]->mask-rcnn==2.1)\n",
      "Installing collected packages: cython, opencv-python, imgaug, mask-rcnn, docutils, imagesize, snowballstemmer, packaging, sphinxcontrib-websupport, babel, alabaster, Sphinx, nose, ipyparallel\n",
      "  Running setup.py develop for mask-rcnn\n",
      "Successfully installed Sphinx-1.7.5 alabaster-0.7.11 babel-2.6.0 cython-0.28.4 docutils-0.14 imagesize-1.0.0 imgaug-0.2.6 ipyparallel-6.2.2 mask-rcnn nose-1.3.7 opencv-python-3.4.1.15 packaging-17.1 snowballstemmer-1.2.1 sphinxcontrib-websupport-1.1.0\n",
      "\u001b[33mYou are using pip version 9.0.1, however version 10.0.1 is available.\n",
      "You should consider upgrading via the 'pip install --upgrade pip' command.\u001b[0m\n"
     ]
    }
   ],
   "source": [
    "!pip install -e maskrcnn"
   ]
  },
  {
   "cell_type": "code",
   "execution_count": 2,
   "metadata": {},
   "outputs": [
    {
     "name": "stdout",
     "output_type": "stream",
     "text": [
      "Pretraied model can take several minutes to download.\n",
      "Downloading pretrained model to mask_rcnn_coco.h5 ...\n",
      "... done downloading pretrained model!\n"
     ]
    }
   ],
   "source": [
    "import os\n",
    "\n",
    "# Local path to trained weights file\n",
    "coco_model_file = \"mask_rcnn_coco.h5\"\n",
    "\n",
    "# Download COCO trained weights from Releases if needed\n",
    "if not os.path.exists(coco_model_file):\n",
    "    from mrcnn import utils\n",
    "    print(\"Pretraied model can take several minutes to download.\")\n",
    "    utils.download_trained_weights(coco_model_file)"
   ]
  },
  {
   "cell_type": "code",
   "execution_count": null,
   "metadata": {},
   "outputs": [],
   "source": []
  }
 ],
 "metadata": {
  "kernelspec": {
   "display_name": "Python 3",
   "language": "python",
   "name": "python3"
  },
  "language_info": {
   "codemirror_mode": {
    "name": "ipython",
    "version": 3
   },
   "file_extension": ".py",
   "mimetype": "text/x-python",
   "name": "python",
   "nbconvert_exporter": "python",
   "pygments_lexer": "ipython3",
   "version": "3.6.2"
  }
 },
 "nbformat": 4,
 "nbformat_minor": 2
}
